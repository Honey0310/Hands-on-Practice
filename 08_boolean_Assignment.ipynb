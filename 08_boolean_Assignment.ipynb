{
 "cells": [
  {
   "cell_type": "code",
   "execution_count": 2,
   "id": "6588eb0b-0881-451c-b9bb-9d8b00c311a0",
   "metadata": {},
   "outputs": [
    {
     "name": "stdout",
     "output_type": "stream",
     "text": [
      "It is satisfied\n"
     ]
    }
   ],
   "source": [
    "# Question 1: Check if 25 is greater than 20 and less than 30\n",
    "if 25 > 20 < 30:\n",
    "     print(\"It is satisfied\")\n",
    "else:\n",
    "    print(\"It is not satisfied\")"
   ]
  },
  {
   "cell_type": "code",
   "execution_count": 2,
   "id": "f4f55ed3-1610-4828-8027-4e2f0ef9ac7e",
   "metadata": {},
   "outputs": [
    {
     "name": "stdout",
     "output_type": "stream",
     "text": [
      "equal\n"
     ]
    }
   ],
   "source": [
    "# Question 2: Check if string \"python\" is equal to \"Python\" (case sensitive)\n",
    "\n",
    "a = \"python\"\n",
    "b = \"python\"\n",
    "if a==b:\n",
    "    print(\"equal\")\n",
    "else:\n",
    "    print(\"not equal\")"
   ]
  },
  {
   "cell_type": "code",
   "execution_count": 4,
   "id": "da4ea2b5-e030-4ba2-a98b-8a4cc43d91a1",
   "metadata": {},
   "outputs": [
    {
     "name": "stdout",
     "output_type": "stream",
     "text": [
      "It is divisible\n"
     ]
    }
   ],
   "source": [
    "# Question 3: Check if 15 is divisible by both 3 and 5\n",
    "\n",
    "a = 15\n",
    "b = 3\n",
    "c = 5\n",
    "\n",
    "if a%b==0 and a%c==0:\n",
    "    print(\"It is divisible\")\n",
    "else:\n",
    "    print(\"It is not divisible\")"
   ]
  },
  {
   "cell_type": "code",
   "execution_count": 5,
   "id": "f95ae5bb-9c48-471e-a145-6bc011e967c4",
   "metadata": {},
   "outputs": [
    {
     "name": "stdout",
     "output_type": "stream",
     "text": [
      "not equal\n"
     ]
    }
   ],
   "source": [
    "# Question 4: Check if 7 is not equal to 8\n",
    "\n",
    "a = 7\n",
    "b = 8\n",
    "if a==b:\n",
    "    print(\"equal\")\n",
    "else:\n",
    "    print(\"not equal\")"
   ]
  },
  {
   "cell_type": "code",
   "execution_count": 8,
   "id": "4f00b0a6-f52d-4aff-8927-2277b8e125bc",
   "metadata": {},
   "outputs": [
    {
     "name": "stdout",
     "output_type": "stream",
     "text": [
      "It is satisfied\n"
     ]
    }
   ],
   "source": [
    "# Question 5: Check if 100 is greater than 50 or less than 25\n",
    "\n",
    "if 100 > 50 or 50 < 25:\n",
    "    print(\"It is satisfied\")\n",
    "else:\n",
    "    print(\"It is not satisfied\")"
   ]
  },
  {
   "cell_type": "code",
   "execution_count": 9,
   "id": "827e97f7-5b3d-45e4-bf86-f6c1216d568b",
   "metadata": {},
   "outputs": [
    {
     "name": "stdout",
     "output_type": "stream",
     "text": [
      "It is valid\n"
     ]
    }
   ],
   "source": [
    "# Question 6: Check if 0 is falsy in Python\n",
    "for i in range(0,10):\n",
    "    if i==0:\n",
    "        print(\"It is valid\")"
   ]
  },
  {
   "cell_type": "code",
   "execution_count": 13,
   "id": "0950d35f-12ff-4da7-a8fe-498873068bc0",
   "metadata": {},
   "outputs": [
    {
     "data": {
      "text/plain": [
       "False"
      ]
     },
     "execution_count": 13,
     "metadata": {},
     "output_type": "execute_result"
    }
   ],
   "source": [
    "# Question 7: Check if empty string \"\" is falsy in Python\n",
    "\n",
    "bool(\"\")"
   ]
  },
  {
   "cell_type": "code",
   "execution_count": 14,
   "id": "7f762b19-da2b-4b22-bf4b-0407aacacd3a",
   "metadata": {},
   "outputs": [
    {
     "data": {
      "text/plain": [
       "True"
      ]
     },
     "execution_count": 14,
     "metadata": {},
     "output_type": "execute_result"
    }
   ],
   "source": [
    "# Question 8: Check if 42 is truthy in Python\n",
    "bool(42)"
   ]
  },
  {
   "cell_type": "code",
   "execution_count": 16,
   "id": "8ee5c9db-53d1-4dad-a248-594457415c30",
   "metadata": {},
   "outputs": [
    {
     "name": "stdout",
     "output_type": "stream",
     "text": [
      "It is valid\n"
     ]
    }
   ],
   "source": [
    "# Question 9: Check if 10 is between 5 and 15 (inclusive)\n",
    "\n",
    "if 10 in range(5,15):\n",
    "    print(\"It is valid\")\n",
    "else:\n",
    "    print(\"It is not valid\")"
   ]
  },
  {
   "cell_type": "code",
   "execution_count": 10,
   "id": "6cdaff65-a1ca-439a-b315-f4d7cf9be61d",
   "metadata": {},
   "outputs": [
    {
     "name": "stdout",
     "output_type": "stream",
     "text": [
      "It is correct\n"
     ]
    }
   ],
   "source": [
    "# Question 10: Check if 3.14 is greater than 3 and less than 4\n",
    "\n",
    "if 4 > 3 and 3 <= 4:\n",
    "    print(\"It is correct\")\n",
    "else:\n",
    "    print(\"It is wrong\")"
   ]
  },
  {
   "cell_type": "code",
   "execution_count": null,
   "id": "032d6e97-c7a7-45ef-94ef-5fba53d61938",
   "metadata": {},
   "outputs": [],
   "source": []
  }
 ],
 "metadata": {
  "kernelspec": {
   "display_name": "Python 3 (ipykernel)",
   "language": "python",
   "name": "python3"
  },
  "language_info": {
   "codemirror_mode": {
    "name": "ipython",
    "version": 3
   },
   "file_extension": ".py",
   "mimetype": "text/x-python",
   "name": "python",
   "nbconvert_exporter": "python",
   "pygments_lexer": "ipython3",
   "version": "3.13.5"
  }
 },
 "nbformat": 4,
 "nbformat_minor": 5
}
