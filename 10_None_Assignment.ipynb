{
 "cells": [
  {
   "cell_type": "code",
   "execution_count": 4,
   "id": "35a5d54d-15a5-4a23-a8f8-b7b12b27887b",
   "metadata": {},
   "outputs": [],
   "source": [
    "# Question 1: Create a variable and assign None to it\n",
    "a=None\n",
    "a"
   ]
  },
  {
   "cell_type": "code",
   "execution_count": 5,
   "id": "3dabc8db-7222-48a5-8250-720771bcaa53",
   "metadata": {},
   "outputs": [
    {
     "data": {
      "text/plain": [
       "True"
      ]
     },
     "execution_count": 5,
     "metadata": {},
     "output_type": "execute_result"
    }
   ],
   "source": [
    "# Question 2: Check if None equals None\n",
    "a=None\n",
    "b=None\n",
    "a==b"
   ]
  },
  {
   "cell_type": "code",
   "execution_count": 7,
   "id": "118116eb-8daf-45bc-89ab-e41a0eae13c9",
   "metadata": {},
   "outputs": [
    {
     "name": "stdout",
     "output_type": "stream",
     "text": [
      "True\n"
     ]
    }
   ],
   "source": [
    "# Question 3: Check if None is None\n",
    "print(None is None)\n"
   ]
  },
  {
   "cell_type": "code",
   "execution_count": 8,
   "id": "88020fe1-45ca-49ad-bbe2-6f00b9749fd8",
   "metadata": {},
   "outputs": [
    {
     "data": {
      "text/plain": [
       "False"
      ]
     },
     "execution_count": 8,
     "metadata": {},
     "output_type": "execute_result"
    }
   ],
   "source": [
    "# Question 4: Check if 0 is None\n",
    "a = 0\n",
    "b = None\n",
    "a==b"
   ]
  },
  {
   "cell_type": "code",
   "execution_count": 12,
   "id": "97b1e286-569f-4828-8802-9aa64541390e",
   "metadata": {},
   "outputs": [
    {
     "data": {
      "text/plain": [
       "False"
      ]
     },
     "execution_count": 12,
     "metadata": {},
     "output_type": "execute_result"
    }
   ],
   "source": [
    "# Question 5: Check if empty string is None\n",
    "a = None\n",
    "b = \"\"\n",
    "a==b"
   ]
  },
  {
   "cell_type": "code",
   "execution_count": 18,
   "id": "204ec83b-65a5-4ec8-bd4f-73c37859b77f",
   "metadata": {},
   "outputs": [
    {
     "data": {
      "text/plain": [
       "False"
      ]
     },
     "execution_count": 18,
     "metadata": {},
     "output_type": "execute_result"
    }
   ],
   "source": [
    "# Question 6: Check if False is None\n",
    "a = False\n",
    "b = None\n",
    "a==b"
   ]
  },
  {
   "cell_type": "code",
   "execution_count": 14,
   "id": "83219306-8054-4a0a-b894-61d68c44082d",
   "metadata": {},
   "outputs": [
    {
     "data": {
      "text/plain": [
       "False"
      ]
     },
     "execution_count": 14,
     "metadata": {},
     "output_type": "execute_result"
    }
   ],
   "source": [
    "# Question 7: Check if empty list is None\n",
    "a = []\n",
    "b = None\n",
    "a==b"
   ]
  },
  {
   "cell_type": "code",
   "execution_count": 20,
   "id": "264e11a7-adec-4d98-8311-61a00e5cf03c",
   "metadata": {},
   "outputs": [
    {
     "data": {
      "text/plain": [
       "False"
      ]
     },
     "execution_count": 20,
     "metadata": {},
     "output_type": "execute_result"
    }
   ],
   "source": [
    "# Question 8: Check if empty dictionary is None\n",
    "a = {}\n",
    "b = None\n",
    "a==b\n"
   ]
  },
  {
   "cell_type": "code",
   "execution_count": 17,
   "id": "c27f202c-739e-4c9d-9c44-e20e745d641c",
   "metadata": {},
   "outputs": [
    {
     "data": {
      "text/plain": [
       "False"
      ]
     },
     "execution_count": 17,
     "metadata": {},
     "output_type": "execute_result"
    }
   ],
   "source": [
    "# Question 9: Check if empty tuple is None\n",
    "a = ()\n",
    "b = None\n",
    "a==b"
   ]
  },
  {
   "cell_type": "code",
   "execution_count": 21,
   "id": "7aff30b8-675d-4cbd-91c7-540df88b524d",
   "metadata": {},
   "outputs": [
    {
     "data": {
      "text/plain": [
       "False"
      ]
     },
     "execution_count": 21,
     "metadata": {},
     "output_type": "execute_result"
    }
   ],
   "source": [
    "# Question 10: Check if empty set is None\n",
    "a = {' '}\n",
    "b = None\n",
    "a==b"
   ]
  },
  {
   "cell_type": "code",
   "execution_count": null,
   "id": "9b3f77d6-0a8b-4c04-a2f9-587ba352c399",
   "metadata": {},
   "outputs": [],
   "source": []
  }
 ],
 "metadata": {
  "kernelspec": {
   "display_name": "Python 3 (ipykernel)",
   "language": "python",
   "name": "python3"
  },
  "language_info": {
   "codemirror_mode": {
    "name": "ipython",
    "version": 3
   },
   "file_extension": ".py",
   "mimetype": "text/x-python",
   "name": "python",
   "nbconvert_exporter": "python",
   "pygments_lexer": "ipython3",
   "version": "3.13.5"
  }
 },
 "nbformat": 4,
 "nbformat_minor": 5
}
