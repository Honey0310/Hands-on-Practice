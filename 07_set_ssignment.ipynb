{
 "cells": [
  {
   "cell_type": "code",
   "execution_count": 2,
   "id": "3e767226-25a3-49fa-b83b-828a3ed6c1ec",
   "metadata": {},
   "outputs": [
    {
     "data": {
      "text/plain": [
       "{1, 2, 3, 4, 5, 6, 7, 8, 9, 10}"
      ]
     },
     "execution_count": 2,
     "metadata": {},
     "output_type": "execute_result"
    }
   ],
   "source": [
    "# Question 1: Create a set of first 10 natural numbers\n",
    "a = set(range(1,11))\n",
    "a"
   ]
  },
  {
   "cell_type": "code",
   "execution_count": 5,
   "id": "c318acc8-ba51-4c21-9d9f-1b2a615c0177",
   "metadata": {},
   "outputs": [
    {
     "name": "stdout",
     "output_type": "stream",
     "text": [
      "{1, 2, 3, 4, 5, 11}\n"
     ]
    }
   ],
   "source": [
    "# Question 2: Add element 11 to set {1, 2, 3, 4, 5}\n",
    "\n",
    "set = {1, 2, 3, 4, 5}\n",
    "set.add(11)\n",
    "print(set)"
   ]
  },
  {
   "cell_type": "code",
   "execution_count": 6,
   "id": "3f347426-d177-43d5-b443-34ae94cb5132",
   "metadata": {},
   "outputs": [
    {
     "data": {
      "text/plain": [
       "{1, 2, 4, 5, 6}"
      ]
     },
     "execution_count": 6,
     "metadata": {},
     "output_type": "execute_result"
    }
   ],
   "source": [
    "# Question 3: Remove element 3 from set {1, 2, 3, 4, 5, 6}\n",
    "\n",
    "set =  {1, 2, 3, 4, 5, 6}\n",
    "set.remove(3)\n",
    "set"
   ]
  },
  {
   "cell_type": "code",
   "execution_count": 8,
   "id": "42726f56-a97c-4ae1-90c0-fed003688692",
   "metadata": {},
   "outputs": [
    {
     "data": {
      "text/plain": [
       "{4, 5}"
      ]
     },
     "execution_count": 8,
     "metadata": {},
     "output_type": "execute_result"
    }
   ],
   "source": [
    "# Question 4: Find the intersection of {1, 2, 3, 4, 5} and {4, 5, 6, 7, 8}\n",
    "\n",
    "a = {1, 2, 3, 4, 5}\n",
    "b = {4, 5, 6, 7, 8}\n",
    "\n",
    "intersection = a & b\n",
    "intersection"
   ]
  },
  {
   "cell_type": "code",
   "execution_count": 13,
   "id": "f953aab9-3910-4c34-8801-39f15d0703cb",
   "metadata": {},
   "outputs": [
    {
     "name": "stdout",
     "output_type": "stream",
     "text": [
      "{1, 2, 3}\n"
     ]
    }
   ],
   "source": [
    "# Question 5: Find the difference between {1, 2, 3, 4, 5} and {4, 5, 6, 7, 8}\n",
    "\n",
    "a = {1, 2, 3, 4, 5}\n",
    "b =  {4, 5, 6, 7, 8}\n",
    "result =a.difference(b)\n",
    "print(result)"
   ]
  },
  {
   "cell_type": "code",
   "execution_count": 17,
   "id": "d10c07bb-0a67-4aa8-9812-53fe56aebe3e",
   "metadata": {},
   "outputs": [
    {
     "name": "stdout",
     "output_type": "stream",
     "text": [
      "5 not in set\n"
     ]
    }
   ],
   "source": [
    "# Question 6: Check if 5 is in set {1, 2, 3, 4, 6, 7, 8}\n",
    "\n",
    "a = {1, 2, 3, 4, 6, 7, 8}\n",
    "if 5 in a:\n",
    "    print(\"5 in set\")\n",
    "else:\n",
    "    print(\"5 not in set\")\n",
    "    "
   ]
  },
  {
   "cell_type": "code",
   "execution_count": 18,
   "id": "abdbbf68-69fe-4f4c-934d-55d06219f41c",
   "metadata": {},
   "outputs": [
    {
     "name": "stdout",
     "output_type": "stream",
     "text": [
      "5\n"
     ]
    }
   ],
   "source": [
    "# Question 7: Find the length of set {'a', 'b', 'c', 'd', 'e'}\n",
    "\n",
    "a = {'a', 'b', 'c', 'd', 'e'}\n",
    "print(len(set))"
   ]
  },
  {
   "cell_type": "code",
   "execution_count": 21,
   "id": "3505d609-6599-4747-8108-8ddd4d14e3ea",
   "metadata": {},
   "outputs": [
    {
     "name": "stdout",
     "output_type": "stream",
     "text": [
      "{'e', 'o'}\n"
     ]
    }
   ],
   "source": [
    "#Question 8: Create a set of vowels from string \"hello world\"\n",
    "\n",
    "a = \"hello world\"\n",
    "vowels = {'a' , 'e' , 'i' ,'o' , 'u'}\n",
    "new = {i for i in a if i in vowels }\n",
    "print(new)\n"
   ]
  },
  {
   "cell_type": "code",
   "execution_count": 2,
   "id": "66ba1cd3-3c94-44ee-9015-06293a6e395b",
   "metadata": {},
   "outputs": [
    {
     "name": "stdout",
     "output_type": "stream",
     "text": [
      "{1, 2, 3, 4, 5, 6, 7}\n"
     ]
    }
   ],
   "source": [
    "# Question 9: Remove duplicates from list [1, 2, 2, 3, 4, 4, 5, 6, 6, 7] using set\n",
    "\n",
    "a =[1, 2, 2, 3, 4, 4, 5, 6, 6, 7]\n",
    "new = set(a)\n",
    "print(new)"
   ]
  },
  {
   "cell_type": "code",
   "execution_count": 1,
   "id": "fc3f41a1-48ba-4b4b-b2fb-f95b3b47f7af",
   "metadata": {},
   "outputs": [
    {
     "name": "stdout",
     "output_type": "stream",
     "text": [
      "True\n"
     ]
    }
   ],
   "source": [
    "# Question 10: Check if {1, 2, 3} is a subset of {1, 2, 3, 4, 5, 6}\n",
    "a = {1, 2, 3}\n",
    "b =  {1, 2, 3, 4, 5, 6}\n",
    "res = a.issubset(b)\n",
    "print(res)"
   ]
  },
  {
   "cell_type": "code",
   "execution_count": null,
   "id": "716418be-cd91-4a15-b145-00b3f6c52f53",
   "metadata": {},
   "outputs": [],
   "source": []
  }
 ],
 "metadata": {
  "kernelspec": {
   "display_name": "Python 3 (ipykernel)",
   "language": "python",
   "name": "python3"
  },
  "language_info": {
   "codemirror_mode": {
    "name": "ipython",
    "version": 3
   },
   "file_extension": ".py",
   "mimetype": "text/x-python",
   "name": "python",
   "nbconvert_exporter": "python",
   "pygments_lexer": "ipython3",
   "version": "3.13.5"
  }
 },
 "nbformat": 4,
 "nbformat_minor": 5
}
