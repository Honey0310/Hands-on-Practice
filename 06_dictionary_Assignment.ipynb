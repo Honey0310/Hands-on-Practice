{
 "cells": [
  {
   "cell_type": "code",
   "execution_count": 1,
   "id": "de462e68-775b-4f9d-a0dc-74275ee2a49e",
   "metadata": {},
   "outputs": [
    {
     "name": "stdout",
     "output_type": "stream",
     "text": [
      "{'Swathi': 21, 'Sravya': 23, 'Rupa': 25, 'Neelima': 22}\n"
     ]
    }
   ],
   "source": [
    "# Question 1: Create a dictionary of student names and their ages\n",
    "\n",
    "students  = {\n",
    "     \"Swathi\" : 21,\n",
    "     \"Sravya\" : 23,\n",
    "     \"Rupa\"   : 25,\n",
    "     \"Neelima\" : 22\n",
    "}\n",
    "print(students)"
   ]
  },
  {
   "cell_type": "code",
   "execution_count": 1,
   "id": "7c2aff20-8c28-4090-80e3-a131814f9cf7",
   "metadata": {},
   "outputs": [
    {
     "name": "stdout",
     "output_type": "stream",
     "text": [
      "{'a': 1, 'b': 2, 'c': 3, 'd': 4}\n"
     ]
    }
   ],
   "source": [
    "# Question 2: Add a new key-value pair to dictionary {'a': 1, 'b': 2, 'c': 3}\n",
    "\n",
    "dict = {'a': 1, 'b': 2, 'c': 3}\n",
    "dict ['d'] = 4\n",
    "print(dict)"
   ]
  },
  {
   "cell_type": "code",
   "execution_count": 10,
   "id": "fe6f0053-9d1b-4406-a255-ac613e300a5a",
   "metadata": {},
   "outputs": [
    {
     "name": "stdout",
     "output_type": "stream",
     "text": [
      "dict_keys(['name', 'age', 'city'])\n"
     ]
    }
   ],
   "source": [
    "# Question 3: Get all keys from dictionary {'name': 'John', 'age': 25, 'city': 'New York'}\n",
    "\n",
    "dict =  {'name': 'John', 'age': 25, 'city': 'New York'}\n",
    "keys = dict.keys()\n",
    "print(keys)"
   ]
  },
  {
   "cell_type": "code",
   "execution_count": 11,
   "id": "8e775a6f-d8dd-4474-b0b9-17f7d0d4ffde",
   "metadata": {},
   "outputs": [
    {
     "name": "stdout",
     "output_type": "stream",
     "text": [
      "dict_values([3, 2, 1])\n"
     ]
    }
   ],
   "source": [
    "# Question 4: Get all values from dictionary {'python': 3, 'java': 2, 'c++': 1}\n",
    "\n",
    "dict = {'python': 3, 'java': 2, 'c++': 1}\n",
    "values = dict.values()\n",
    "print(values)"
   ]
  },
  {
   "cell_type": "code",
   "execution_count": 18,
   "id": "cb2e1a94-7ca8-4aaf-a045-fadc966c5622",
   "metadata": {},
   "outputs": [
    {
     "name": "stdout",
     "output_type": "stream",
     "text": [
      "key age exists\n"
     ]
    }
   ],
   "source": [
    "# Question 5: Check if key 'age' exists in {'name': 'Alice', 'age': 30, 'city': 'London'}\n",
    "\n",
    "dict =  {'name': 'Alice', 'age': 30, 'city': 'London'}\n",
    "if 'age' in dict:\n",
    "    print(\"key age exists\")\n",
    "else:\n",
    "    print(\"key age does not exists \")"
   ]
  },
  {
   "cell_type": "code",
   "execution_count": 28,
   "id": "e3d867e0-6cf0-478b-b6a3-f7a1cb578f2e",
   "metadata": {},
   "outputs": [
    {
     "name": "stdout",
     "output_type": "stream",
     "text": [
      "{'a': 1, 'b': 2, 'c': 4}\n"
     ]
    }
   ],
   "source": [
    "# Question 6: Remove key 'temp' from {'a': 1, 'b': 2, 'temp': 3, 'c': 4}\n",
    "\n",
    "my_dict = {'a': 1, 'b': 2, 'temp': 3, 'c': 4}\n",
    "del my_dict['temp']\n",
    "print(my_dict)"
   ]
  },
  {
   "cell_type": "code",
   "execution_count": 29,
   "id": "d1e7250e-7f6e-40a1-b381-69074c11e12a",
   "metadata": {},
   "outputs": [
    {
     "name": "stdout",
     "output_type": "stream",
     "text": [
      "255\n"
     ]
    }
   ],
   "source": [
    "# Question 7: Find the sum of all values in {'math': 85, 'science': 92, 'english': 78}\n",
    "\n",
    "dict = {'math': 85, 'science': 92, 'english': 78}\n",
    "\n",
    "total_dict = sum(dict.values())\n",
    "print(total_dict)"
   ]
  },
  {
   "cell_type": "code",
   "execution_count": 30,
   "id": "3850e756-847b-4ae1-9e7e-e04ba1fa60fe",
   "metadata": {},
   "outputs": [
    {
     "name": "stdout",
     "output_type": "stream",
     "text": [
      "{1: 1, 2: 4, 3: 9, 4: 16, 5: 25}\n"
     ]
    }
   ],
   "source": [
    "# Question 8: Create a dictionary with squares of numbers 1 to 5\n",
    "squares = {}\n",
    "\n",
    "for num in range(1,6):\n",
    "    if num > 0:\n",
    "        squares[num] = num**2\n",
    "    else:\n",
    "        squares[num] = 0\n",
    "print(squares)"
   ]
  },
  {
   "cell_type": "code",
   "execution_count": 34,
   "id": "3a2bf844-6ab5-441e-b419-339b0f5ed8c3",
   "metadata": {},
   "outputs": [
    {
     "name": "stdout",
     "output_type": "stream",
     "text": [
      "{'h': 1, 'e': 1, 'l': 2, 'o': 1}\n"
     ]
    }
   ],
   "source": [
    "# Question 9: Count frequency of each character in string \"hello\"\n",
    "\n",
    "dict = \"hello\"\n",
    "freq = {}\n",
    "for char in dict:\n",
    "    if char in freq:\n",
    "        freq[char] += 1\n",
    "    else:\n",
    "        freq[char] = 1\n",
    "\n",
    "print(freq)"
   ]
  },
  {
   "cell_type": "code",
   "execution_count": 40,
   "id": "181a9b3c-c613-4400-a144-ca952f41f9f1",
   "metadata": {},
   "outputs": [
    {
     "name": "stdout",
     "output_type": "stream",
     "text": [
      "{'a': 1, 'b': 2, 'c': 3, 'd': 4}\n"
     ]
    }
   ],
   "source": [
    "# Question 10: Merge two dictionaries {'a': 1, 'b': 2} and {'c': 3, 'd': 4}\n",
    "\n",
    "a = {'a': 1, 'b': 2}\n",
    "b =  {'c': 3, 'd': 4}\n",
    "a.update(b)\n",
    "print(a)"
   ]
  },
  {
   "cell_type": "code",
   "execution_count": 2,
   "id": "e0365d86-1813-4f0d-b976-bb012add7c3b",
   "metadata": {},
   "outputs": [
    {
     "name": "stdout",
     "output_type": "stream",
     "text": [
      "{'person': {'name': 'Alice', 'age': 25}}\n"
     ]
    }
   ],
   "source": [
    "# Question 11: Create a nested dictionary: {'person': {'name': 'Alice', 'age': 25}}\n",
    "\n",
    "nested_dict = {'person': {'name': 'Alice', 'age': 25}}\n",
    "print(nested_dict)\n"
   ]
  },
  {
   "cell_type": "code",
   "execution_count": 4,
   "id": "2fe50417-04b8-4408-abfe-85c39df8096f",
   "metadata": {},
   "outputs": [
    {
     "name": "stdout",
     "output_type": "stream",
     "text": [
      "Alice\n"
     ]
    }
   ],
   "source": [
    "# Question 12: Access nested value 'name' from {'person': {'name': 'Alice', 'age': 25}}\n",
    "\n",
    "nested_dict = {'person': {'name': 'Alice', 'age': 25}}\n",
    "new = nested_dict['person']['name'] \n",
    "print(new)"
   ]
  },
  {
   "cell_type": "code",
   "execution_count": 7,
   "id": "ac9f9fc6-1281-4a5f-bf01-b22537236d29",
   "metadata": {},
   "outputs": [
    {
     "name": "stdout",
     "output_type": "stream",
     "text": [
      "{'fruits': ['apple', 'banana'], 'colors': ['red', 'blue']}\n"
     ]
    }
   ],
   "source": [
    "# Question 13: Create a dictionary with list values: {'fruits': ['apple', 'banana'], 'colors': ['red', 'blue']}\n",
    "\n",
    "dict = {'fruits': ['apple', 'banana'],'colors': ['red', 'blue']}\n",
    "print(dict)"
   ]
  },
  {
   "cell_type": "code",
   "execution_count": 5,
   "id": "850f38da-5bcc-4d5e-bb3c-c415c320f4fa",
   "metadata": {},
   "outputs": [
    {
     "name": "stdout",
     "output_type": "stream",
     "text": [
      "{'fruits': ['apple', 'banana', 'orange'], 'colors': ['red', 'blue']}\n"
     ]
    }
   ],
   "source": [
    "# Question 14: Add 'orange' to the 'fruits' list in nested dictionary\n",
    "\n",
    "dict = {'fruits' : ['apple', 'banana'],'colors': ['red', 'blue']}\n",
    "dict['fruits'].append('orange')\n",
    "print(dict)"
   ]
  },
  {
   "cell_type": "code",
   "execution_count": 6,
   "id": "8bcbabb7-ce58-48f3-8381-b7553011920f",
   "metadata": {},
   "outputs": [
    {
     "name": "stdout",
     "output_type": "stream",
     "text": [
      "dict_values([(10, 20), (255, 0, 0)])\n"
     ]
    }
   ],
   "source": [
    "# Question 15: Create a dictionary with tuple values: {'coordinates': (10, 20), 'rgb': (255, 0, 0)}\n",
    "\n",
    "dict = {'coordinates': (10, 20), 'rgb': (255, 0, 0)}\n",
    "values = dict.values()\n",
    "print(values)"
   ]
  },
  {
   "cell_type": "code",
   "execution_count": 1,
   "id": "90a99d32-ac2c-49ea-a05d-7fc31a1a3444",
   "metadata": {},
   "outputs": [
    {
     "name": "stdout",
     "output_type": "stream",
     "text": [
      "10\n"
     ]
    }
   ],
   "source": [
    "# Question 16: Extract first coordinate from nested tuple\n",
    "\n",
    "dict = {'coordinates': (10, 20), 'rgb': (255, 0, 0)}\n",
    "first_coordinate = dict['coordinates'][0]\n",
    "print(first_coordinate)"
   ]
  },
  {
   "cell_type": "code",
   "execution_count": 5,
   "id": "3c44b841-a81b-45a3-be6f-d007b34f8180",
   "metadata": {},
   "outputs": [
    {
     "name": "stdout",
     "output_type": "stream",
     "text": [
      "dict_values([{'a', 'e', 'i'}, {'b', 'd', 'c'}])\n"
     ]
    }
   ],
   "source": [
    "# Question 17: Create a dictionary with set values: {'vowels': {'a', 'e', 'i'}, 'consonants': {'b', 'c', 'd'}}\n",
    "\n",
    "dict = {'vowels': {'a', 'e', 'i'}, 'consonants': {'b', 'c', 'd'}}\n",
    "values = dict.values()\n",
    "print(values)"
   ]
  },
  {
   "cell_type": "code",
   "execution_count": 8,
   "id": "35c0b93b-a367-4827-b07f-bbbf2d11d6e5",
   "metadata": {},
   "outputs": [
    {
     "name": "stdout",
     "output_type": "stream",
     "text": [
      "{'vowels': {'a', 'o', 'e', 'i'}, 'consonants': {'b', 'd', 'c'}}\n"
     ]
    }
   ],
   "source": [
    "# Question 18: Add 'o' to vowels set in nested dictionary\n",
    "\n",
    "dict = {'vowels': {'a', 'e', 'i'}, 'consonants': {'b', 'c', 'd'}}\n",
    "dict['vowels'].add('o')\n",
    "print(dict)"
   ]
  },
  {
   "cell_type": "code",
   "execution_count": 9,
   "id": "5599b775-b42b-4f98-b092-049952133bb7",
   "metadata": {},
   "outputs": [
    {
     "data": {
      "text/plain": [
       "{'company': {'department': {'employee': {'name': 'John', 'id': 123}}}}"
      ]
     },
     "execution_count": 9,
     "metadata": {},
     "output_type": "execute_result"
    }
   ],
   "source": [
    "# Question 19: Create a 3-level nested dictionary: {'company': {'department': {'employee': {'name': 'John', 'id': 123}}}}\n",
    "\n",
    "dict = {'company': {'department': {'employee': {'name': 'John', 'id': 123}}}}\n",
    "dict\n"
   ]
  },
  {
   "cell_type": "code",
   "execution_count": 10,
   "id": "67af3e2b-6e0c-4956-a310-dca67152ee9c",
   "metadata": {},
   "outputs": [
    {
     "name": "stdout",
     "output_type": "stream",
     "text": [
      "John\n"
     ]
    }
   ],
   "source": [
    "# Question 20: Access employee name from 3-level nested dictionary\n",
    "\n",
    "dict = {'company': {'department': {'employee': {'name': 'John', 'id': 123}}}}\n",
    "employee_name = dict['company']['department']['employee']['name']\n",
    "print(employee_name)"
   ]
  },
  {
   "cell_type": "code",
   "execution_count": 11,
   "id": "3dc2cf0a-ac99-4b04-a0a1-61c1722a8093",
   "metadata": {},
   "outputs": [
    {
     "data": {
      "text/plain": [
       "{'int': 42, 'float': 3.14, 'str': 'hello', 'bool': True}"
      ]
     },
     "execution_count": 11,
     "metadata": {},
     "output_type": "execute_result"
    }
   ],
   "source": [
    "# Question 21: Create a dictionary with mixed data types: {'int': 42, 'float': 3.14, 'str': 'hello', 'bool': True}\n",
    "\n",
    "dict = {'int': 42, 'float': 3.14, 'str': 'hello', 'bool': True}\n",
    "dict"
   ]
  },
  {
   "cell_type": "code",
   "execution_count": 13,
   "id": "08039a28-d542-46d2-b599-8166b24b8f91",
   "metadata": {},
   "outputs": [
    {
     "name": "stdout",
     "output_type": "stream",
     "text": [
      "int <class 'int'>\n",
      "float <class 'float'>\n",
      "str <class 'str'>\n",
      "bool <class 'bool'>\n"
     ]
    }
   ],
   "source": [
    "# Question 22: Check data type of each value in mixed dictionary\n",
    "\n",
    "dict = {'int': 42, 'float': 3.14, 'str': 'hello', 'bool': True}\n",
    "for i in dict:\n",
    "    print(i, type(dict[i]))\n",
    "    "
   ]
  },
  {
   "cell_type": "code",
   "execution_count": 14,
   "id": "c275cfbc-d1bf-4eee-b0a3-35f084f05b81",
   "metadata": {},
   "outputs": [
    {
     "data": {
      "text/plain": [
       "dict_values([<built-in function len>, <class 'str'>, <class 'int'>])"
      ]
     },
     "execution_count": 14,
     "metadata": {},
     "output_type": "execute_result"
    }
   ],
   "source": [
    "# Question 23: Create a dictionary with function values: {'len': len, 'str': str, 'int': int}\n",
    "\n",
    "dict = {'len': len, 'str': str, 'int': int}\n",
    "values = dict.values()\n",
    "values"
   ]
  },
  {
   "cell_type": "code",
   "execution_count": 18,
   "id": "0a75fa83-1293-4209-8714-7c6ba1a430f3",
   "metadata": {},
   "outputs": [
    {
     "name": "stdout",
     "output_type": "stream",
     "text": [
      "{'len': 3, 'str': '123', 'int': 123}\n"
     ]
    }
   ],
   "source": [
    "# Question 24: Apply each function to \"123\" using dictionary\n",
    "dict =  {'len': len, 'str': str, 'int': int}\n",
    "values = \"123\"\n",
    "results ={\n",
    "    'len': len(values),\n",
    "    'str': str(values),\n",
    "    'int': int(values)\n",
    "    \n",
    "}\n",
    "print(results)"
   ]
  },
  {
   "cell_type": "code",
   "execution_count": 20,
   "id": "5fb8ecb1-d15a-472f-b938-41551e6a2b1c",
   "metadata": {},
   "outputs": [
    {
     "data": {
      "text/plain": [
       "{'double': <function __main__.<lambda>(x)>,\n",
       " 'square': <function __main__.<lambda>(x)>}"
      ]
     },
     "execution_count": 20,
     "metadata": {},
     "output_type": "execute_result"
    }
   ],
   "source": [
    "# Question 25: Create a dictionary with lambda functions: {'double': lambda x: x*2, 'square': lambda x: x**2}\n",
    "dict = {'double': lambda x: x*2, 'square': lambda x: x**2}\n",
    "dict"
   ]
  },
  {
   "cell_type": "code",
   "execution_count": 26,
   "id": "98f76288-5ef5-469c-a823-7a94b3f2b37f",
   "metadata": {},
   "outputs": [
    {
     "name": "stdout",
     "output_type": "stream",
     "text": [
      "10\n",
      "25\n"
     ]
    }
   ],
   "source": [
    "# Question 26: Apply each lambda function to 5\n",
    "dict = {'double': lambda x: x*2, 'square': lambda x: x**2}\n",
    "x = 5\n",
    "print(dict['double'](x))\n",
    "print(dict['square'](x))\n"
   ]
  },
  {
   "cell_type": "code",
   "execution_count": 1,
   "id": "7c3bd0a5-5289-4fc7-bae2-b4a1116628d1",
   "metadata": {},
   "outputs": [
    {
     "name": "stdout",
     "output_type": "stream",
     "text": [
      "{'list': <class 'list'>, 'dict': <class 'dict'>, 'set': <class 'set'>}\n"
     ]
    }
   ],
   "source": [
    "# Question 27: Create a dictionary with class values: {'list': list, 'dict': dict, 'set': set}\n",
    "\n",
    "class_dict ={'list': list, 'dict': dict, 'set': set}\n",
    "print(class_dict)"
   ]
  },
  {
   "cell_type": "code",
   "execution_count": 2,
   "id": "d128a27b-6eb1-4391-8ea5-78b984e55d73",
   "metadata": {},
   "outputs": [
    {
     "name": "stdout",
     "output_type": "stream",
     "text": [
      "[1, 2, 3]\n",
      "{'a': 1, 'b': 2}\n",
      "{1, 2, 3}\n"
     ]
    }
   ],
   "source": [
    "# Question 28: Create instances using class dictionary\n",
    "\n",
    "class_dict = {'list': list, 'dict': dict, 'set': set}\n",
    "my_list = class_dict['list']([1, 2, 3])\n",
    "my_dict = class_dict['dict']({'a': 1, 'b': 2})\n",
    "my_set = class_dict['set']([1, 2, 3])\n",
    "\n",
    "print(my_list) \n",
    "print(my_dict)  \n",
    "print(my_set)   "
   ]
  },
  {
   "cell_type": "code",
   "execution_count": 3,
   "id": "1aec11ac-0886-465a-82d7-331182a22273",
   "metadata": {},
   "outputs": [
    {
     "data": {
      "text/plain": [
       "{'a': None, 'b': None, 'c': None}"
      ]
     },
     "execution_count": 3,
     "metadata": {},
     "output_type": "execute_result"
    }
   ],
   "source": [
    "# Question 29: Create a dictionary with None values: {'a': None, 'b': None, 'c': None}\n",
    "\n",
    "dict = {'a': None, 'b': None, 'c': None}\n",
    "dict"
   ]
  },
  {
   "cell_type": "code",
   "execution_count": 8,
   "id": "2e3999d4-1547-4a9f-8b37-9d951185d0b0",
   "metadata": {},
   "outputs": [
    {
     "data": {
      "text/plain": [
       "{'a': 0, 'b': 0, 'c': 0}"
      ]
     },
     "execution_count": 8,
     "metadata": {},
     "output_type": "execute_result"
    }
   ],
   "source": [
    "# Question 30: Replace all None values with 0\n",
    "\n",
    "dict = {'a': None, 'b': None, 'c': None}\n",
    "dict['a']=0\n",
    "dict['b']=0\n",
    "dict['c']=0\n",
    "dict"
   ]
  },
  {
   "cell_type": "code",
   "execution_count": 1,
   "id": "1520d177-95b8-431d-ad52-7543b4c41a83",
   "metadata": {},
   "outputs": [
    {
     "name": "stdout",
     "output_type": "stream",
     "text": [
      "{'is_active': True, 'is_admin': False}\n"
     ]
    }
   ],
   "source": [
    "# Question 31: Create a dictionary with boolean values: {'is_active': True, 'is_admin': False}\n",
    "\n",
    "dict = {'is_active': True, 'is_admin': False}\n",
    "print(dict)"
   ]
  },
  {
   "cell_type": "code",
   "execution_count": 5,
   "id": "28d28160-1095-40f7-84e2-1b749c04d649",
   "metadata": {},
   "outputs": [
    {
     "name": "stdout",
     "output_type": "stream",
     "text": [
      "1\n"
     ]
    }
   ],
   "source": [
    "# Question 32: Count True values in boolean dictionary\n",
    "\n",
    "dict = {'is_active': True, 'is_admin': False}\n",
    "new = 0\n",
    "for value in dict.values():\n",
    "    if value == True:\n",
    "        new += 1\n",
    "print(new)"
   ]
  },
  {
   "cell_type": "code",
   "execution_count": 6,
   "id": "5a4c1e5d-faa5-4e26-ac5d-a6d6532922f9",
   "metadata": {},
   "outputs": [
    {
     "data": {
      "text/plain": [
       "{'z1': (3+4j), 'z2': (1+2j)}"
      ]
     },
     "execution_count": 6,
     "metadata": {},
     "output_type": "execute_result"
    }
   ],
   "source": [
    "# Question 33: Create a dictionary with complex numbers: {'z1': 3+4j, 'z2': 1+2j}\n",
    "\n",
    "dict =  {'z1': 3+4j, 'z2': 1+2j}\n",
    "dict"
   ]
  },
  {
   "cell_type": "code",
   "execution_count": 15,
   "id": "add29c74-8b47-400f-aa3c-c13eacd6883f",
   "metadata": {},
   "outputs": [
    {
     "name": "stdout",
     "output_type": "stream",
     "text": [
      "{'z1': 5.0, 'z2': 2.23606797749979}\n"
     ]
    }
   ],
   "source": [
    "# Question 34: Find magnitude of each complex number\n",
    "\n",
    "dict =  {'z1': 3+4j, 'z2': 1+2j}\n",
    "magnitude = {}\n",
    "for key,values in dict.items():\n",
    "    magnitude[key] = abs(values)\n",
    "print(magnitude)\n",
    "    "
   ]
  },
  {
   "cell_type": "code",
   "execution_count": 18,
   "id": "1148cc07-6218-4b49-837b-f4ad1e9dbb37",
   "metadata": {},
   "outputs": [
    {
     "data": {
      "text/plain": [
       "{'z1': {'z2': {'z3': {'z4': (3+4j)}}}}"
      ]
     },
     "execution_count": 18,
     "metadata": {},
     "output_type": "execute_result"
    }
   ],
   "source": [
    "# Question 35: Create a 4-level nested dictionary\n",
    "dict = {'z1': {\"z2\":{\"z3\":{\"z4\":(3+4j)}}}}\n",
    "dict\n"
   ]
  },
  {
   "cell_type": "code",
   "execution_count": 20,
   "id": "065a2141-c8fa-42ad-b9cf-def9d36cc1e5",
   "metadata": {},
   "outputs": [
    {
     "name": "stdout",
     "output_type": "stream",
     "text": [
      "{'level1': {'level2': {'level3': {'level4': 'deepest value'}}}}\n"
     ]
    }
   ],
   "source": [
    "# Question 36: Access deepest value in 4-level nested dictionary\n",
    "dict = {\n",
    "    \"level1\":{\n",
    "        \"level2\":{\n",
    "            \"level3\":{\n",
    "                \"level4\": 'deepest value'\n",
    "                    \n",
    "                }\n",
    "            }\n",
    "        }\n",
    "    }\n",
    "print(dict)"
   ]
  },
  {
   "cell_type": "code",
   "execution_count": 21,
   "id": "6846fef1-0e13-4929-a14f-a6bdda964391",
   "metadata": {},
   "outputs": [
    {
     "name": "stdout",
     "output_type": "stream",
     "text": [
      "{'r1': range(0, 3), 'r2': range(0, 5)}\n"
     ]
    }
   ],
   "source": [
    "# Question 37: Create a dictionary with range values: {'r1': range(3), 'r2': range(5)}\n",
    "\n",
    "dict = {'r1': range(3), 'r2': range(5)}\n",
    "print(dict)"
   ]
  },
  {
   "cell_type": "code",
   "execution_count": 2,
   "id": "c8d5fd0a-aab7-4edb-9e36-e5fb25c1fc08",
   "metadata": {},
   "outputs": [
    {
     "name": "stdout",
     "output_type": "stream",
     "text": [
      "{'r1': [0, 1, 2], 'r2': [0, 1, 2, 3, 4]}\n"
     ]
    }
   ],
   "source": [
    "# Question 38: Convert each range to list\n",
    "dict = {'r1': range(3), 'r2': range(5)}\n",
    "new = {}\n",
    "for key,values in dict.items():\n",
    "    new[key]=list(values)\n",
    "print(new)"
   ]
  },
  {
   "cell_type": "code",
   "execution_count": 8,
   "id": "78089517-4047-4c1c-8277-d1d874288ab9",
   "metadata": {},
   "outputs": [
    {
     "name": "stdout",
     "output_type": "stream",
     "text": [
      "{'dict1': <generator object <genexpr> at 0x00000292A680BDC0>, 'dict': <generator object <genexpr> at 0x00000292A686CD00>}\n"
     ]
    }
   ],
   "source": [
    "# Question 39:  Create a dictionary with generator values\n",
    "\n",
    "dict = {\n",
    "   \"dict1\":(i for i in range(0,8)),\n",
    "    \"dict\":(i for i in range(1,8))\n",
    "}\n",
    "print(dict)"
   ]
  },
  {
   "cell_type": "code",
   "execution_count": 9,
   "id": "8e382863-f35e-427e-a550-8a2f41f446ee",
   "metadata": {},
   "outputs": [
    {
     "name": "stdout",
     "output_type": "stream",
     "text": [
      "{'dict1': [0, 1, 2, 3, 4, 5, 6, 7], 'dict': [1, 2, 3, 4, 5, 6, 7]}\n"
     ]
    }
   ],
   "source": [
    "# Question 40: Convert each generator to list\n",
    "\n",
    "gen_dict = {}\n",
    "for key,gen in  dict.items():\n",
    "    gen_dict[key]=list(gen)\n",
    "print(gen_dict)"
   ]
  },
  {
   "cell_type": "code",
   "execution_count": 1,
   "id": "4a9f69de-2c22-459d-869c-6e183e0de4c1",
   "metadata": {},
   "outputs": [
    {
     "name": "stdout",
     "output_type": "stream",
     "text": [
      "{'it1': <list_iterator object at 0x00000292A556E110>, 'it2': <list_iterator object at 0x00000292A6723DF0>}\n"
     ]
    }
   ],
   "source": [
    "# Question 41: Create a dictionary with iterator values\n",
    "\n",
    "iterator = {\n",
    "      \"it1\" : iter([1,2,3,4]),\n",
    "      \"it2\" : iter([12,7])\n",
    "}\n",
    "print(iterator)"
   ]
  },
  {
   "cell_type": "code",
   "execution_count": 14,
   "id": "3cae3d54-61c3-4ff8-ba2a-c7da0b477347",
   "metadata": {},
   "outputs": [
    {
     "name": "stdout",
     "output_type": "stream",
     "text": [
      "{'it1': [1, 2, 3, 4], 'it2': [12, 7]}\n"
     ]
    }
   ],
   "source": [
    "# Question 42: Extract all elements from each iterator\n",
    "\n",
    "iterator = {\n",
    "     \"it1\" : iter([1,2,3,4]),\n",
    "      \"it2\" : iter([12,7])\n",
    "}\n",
    "extracted_dict = {key:list(value) for key, value in iterator.items()}\n",
    "print(extracted_dict)"
   ]
  },
  {
   "cell_type": "code",
   "execution_count": 19,
   "id": "98e8c2e1-6133-4b28-a740-f02782b1866f",
   "metadata": {},
   "outputs": [
    {
     "name": "stdout",
     "output_type": "stream",
     "text": [
      "{'matrix': [[1, 2], [3, 4]], 'vector': [5, 6, 7]}\n"
     ]
    }
   ],
   "source": [
    "# Question 43: Create a dictionary with nested lists: {'matrix': [[1, 2], [3, 4]], 'vector': [5, 6, 7]}\n",
    "\n",
    "nested_dict =  {\n",
    "    'matrix': [[1, 2], [3, 4]], \n",
    "    'vector': [5, 6, 7]\n",
    "}\n",
    "\n",
    "print(nested_dict)"
   ]
  },
  {
   "cell_type": "code",
   "execution_count": 23,
   "id": "26a1ceb6-c568-4305-8f7d-823101e3f598",
   "metadata": {},
   "outputs": [
    {
     "name": "stdout",
     "output_type": "stream",
     "text": [
      "{'matrix': [3, 7], 'vector': 18}\n"
     ]
    }
   ],
   "source": [
    "# Question 44: Find sum of each nested list\n",
    "dict = {\n",
    "    'matrix': [[1, 2], [3, 4]], \n",
    "    'vector': [5, 6, 7]\n",
    "}\n",
    "res ={\n",
    "    'matrix' : [sum(row) for row in dict['matrix']],\n",
    "    'vector' : sum(dict['vector'])\n",
    "}\n",
    "print(res)"
   ]
  },
  {
   "cell_type": "code",
   "execution_count": 6,
   "id": "b922ff6b-d8db-4a1a-a047-0e62f84ebd9b",
   "metadata": {},
   "outputs": [
    {
     "data": {
      "text/plain": [
       "{'config': {'db': {'host': 'localhost', 'port': 5432}}}"
      ]
     },
     "execution_count": 6,
     "metadata": {},
     "output_type": "execute_result"
    }
   ],
   "source": [
    "# Question 45: Create a dictionary with nested dictionaries: {'config': {'db': {'host': 'localhost', 'port': 5432}}}\n",
    "dict = {\n",
    "    'config': {\n",
    "        'db': {\n",
    "            'host': 'localhost', 'port': 5432\n",
    "        }\n",
    "    }\n",
    "}\n",
    "dict"
   ]
  },
  {
   "cell_type": "code",
   "execution_count": 10,
   "id": "26f76ac3-3541-492d-8f5a-4d272a2d3b79",
   "metadata": {},
   "outputs": [
    {
     "name": "stdout",
     "output_type": "stream",
     "text": [
      "localhost\n",
      "5432\n"
     ]
    }
   ],
   "source": [
    "# Question 46: Access database port from nested configuration\n",
    "dict = {\n",
    "    'config': {\n",
    "        'db': {\n",
    "            'host': 'localhost', 'port': 5432\n",
    "        }\n",
    "    }\n",
    "}\n",
    "print(dict['config']['db']['host'])\n",
    "print(dict['config']['db']['port'])\n"
   ]
  },
  {
   "cell_type": "code",
   "execution_count": 7,
   "id": "ecd13a59-79c5-424f-8c5b-8dc6b5c19cb0",
   "metadata": {},
   "outputs": [
    {
     "data": {
      "text/plain": [
       "{'points': ((1, 2), (3, 4)), 'rgb': ((255, 0, 0), (0, 255, 0))}"
      ]
     },
     "execution_count": 7,
     "metadata": {},
     "output_type": "execute_result"
    }
   ],
   "source": [
    "# Question 47: Create a dictionary with nested tuples: {'points': ((1, 2), (3, 4)), 'rgb': ((255, 0, 0), (0, 255, 0))}\n",
    "tuple_dict = {'points': ((1, 2), (3, 4)), 'rgb': ((255, 0, 0), (0, 255, 0))}\n",
    "tuple_dict"
   ]
  },
  {
   "cell_type": "code",
   "execution_count": 11,
   "id": "fdce66f2-00ec-43d2-855f-baad83f9ffc6",
   "metadata": {},
   "outputs": [
    {
     "name": "stdout",
     "output_type": "stream",
     "text": [
      "(1, 2)\n",
      "0\n"
     ]
    }
   ],
   "source": [
    "# Question 48: Extract first point coordinates\n",
    "tuple_dict = {'points': ((1, 2), (3, 4)), 'rgb': ((255, 0, 0), (0, 255, 0))}\n",
    "print(tuple_dict['points'][0])\n",
    "print(tuple_dict['rgb'][1][0])"
   ]
  },
  {
   "cell_type": "code",
   "execution_count": 3,
   "id": "ba3f3255-fcd1-4353-acaf-721616dc4e88",
   "metadata": {},
   "outputs": [
    {
     "name": "stdout",
     "output_type": "stream",
     "text": [
      "{'groups': [{1, 2, 3}, {4, 5, 6}], 'categories': [{'a', 'b'}, {'d', 'c'}]}\n"
     ]
    }
   ],
   "source": [
    "# Question 49: Create a dictionary with nested sets: {'groups': {{1, 2, 3}, {4, 5, 6}}, 'categories': {{'a', 'b'}, {'c', 'd'}}}\n",
    "\n",
    "set_dict = {\n",
    "    'groups': [{1, 2, 3}, {4, 5, 6}], \n",
    "    'categories': [{'a', 'b'}, {'c', 'd'}]\n",
    "}\n",
    "print(set_dict)"
   ]
  },
  {
   "cell_type": "code",
   "execution_count": 5,
   "id": "ecb9e3ee-a403-4e9b-972b-b8260c6c9cd5",
   "metadata": {},
   "outputs": [
    {
     "data": {
      "text/plain": [
       "{1, 2, 3, 4, 5, 7}"
      ]
     },
     "execution_count": 5,
     "metadata": {},
     "output_type": "execute_result"
    }
   ],
   "source": [
    "# Question 50: Find union of all nested sets\n",
    "\n",
    "dict = {\n",
    "    'set1': {1,2,3},\n",
    "    'set2': {3,4,5},\n",
    "    'set3':{5,7}\n",
    "}\n",
    "res = set.union(*dict.values())\n",
    "res"
   ]
  },
  {
   "cell_type": "code",
   "execution_count": null,
   "id": "b00957de-b45e-46e6-afc0-03d01f7f7610",
   "metadata": {},
   "outputs": [],
   "source": []
  }
 ],
 "metadata": {
  "kernelspec": {
   "display_name": "Python 3 (ipykernel)",
   "language": "python",
   "name": "python3"
  },
  "language_info": {
   "codemirror_mode": {
    "name": "ipython",
    "version": 3
   },
   "file_extension": ".py",
   "mimetype": "text/x-python",
   "name": "python",
   "nbconvert_exporter": "python",
   "pygments_lexer": "ipython3",
   "version": "3.13.5"
  }
 },
 "nbformat": 4,
 "nbformat_minor": 5
}
