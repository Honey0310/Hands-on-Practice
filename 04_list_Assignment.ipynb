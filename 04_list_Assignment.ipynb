{
 "cells": [
  {
   "cell_type": "code",
   "execution_count": 1,
   "id": "c65792e0-bbc3-465b-a71e-f1108b15f7e1",
   "metadata": {},
   "outputs": [
    {
     "data": {
      "text/plain": [
       "[1, 4, 9, 16, 25, 36, 49, 64, 81, 100]"
      ]
     },
     "execution_count": 1,
     "metadata": {},
     "output_type": "execute_result"
    }
   ],
   "source": [
    "# Question 1: Create a list of first 10 square numbers\n",
    "square = [i ** 2 for i in range(1,11)]\n",
    "square"
   ]
  },
  {
   "cell_type": "code",
   "execution_count": 8,
   "id": "e6b285f7-0ff6-4d89-acfa-babcf0b669bb",
   "metadata": {},
   "outputs": [
    {
     "data": {
      "text/plain": [
       "30"
      ]
     },
     "execution_count": 8,
     "metadata": {},
     "output_type": "execute_result"
    }
   ],
   "source": [
    "# Question 2: Find the sum of all even numbers in [1, 2, 3, 4, 5, 6, 7, 8, 9, 10]\n",
    "\n",
    "a = [1, 2, 3, 4, 5, 6, 7, 8, 9, 10]\n",
    "res = sum(i for i in a if i%2 == 0)\n",
    "res"
   ]
  },
  {
   "cell_type": "code",
   "execution_count": 14,
   "id": "e2e435b8-0b27-4ae6-b18a-8a5cbf361243",
   "metadata": {},
   "outputs": [
    {
     "data": {
      "text/plain": [
       "[1, 2, 3, 4, 5, 6, 7]"
      ]
     },
     "execution_count": 14,
     "metadata": {},
     "output_type": "execute_result"
    }
   ],
   "source": [
    "# Question 3: Remove duplicates from [1, 2, 2, 3, 4, 4, 5, 6, 6, 7]\n",
    "\n",
    "a = [1, 2, 2, 3, 4, 4, 5, 6, 6, 7]\n",
    "p = list(set(a))\n",
    "p"
   ]
  },
  {
   "cell_type": "code",
   "execution_count": 19,
   "id": "a51834ae-95d2-416f-8328-b265cc671d0f",
   "metadata": {},
   "outputs": [
    {
     "data": {
      "text/plain": [
       "[90, 64, 34, 25, 22, 12, 11]"
      ]
     },
     "execution_count": 19,
     "metadata": {},
     "output_type": "execute_result"
    }
   ],
   "source": [
    "# Question 4: Sort the list [64, 34, 25, 12, 22, 11, 90] in descending order\n",
    "\n",
    "a = [64, 34, 25, 12, 22, 11, 90]\n",
    "a.sort(reverse = True)\n",
    "a"
   ]
  },
  {
   "cell_type": "code",
   "execution_count": 20,
   "id": "76fcb337-fc7b-4551-869a-b0add6a77c11",
   "metadata": {},
   "outputs": [
    {
     "name": "stdout",
     "output_type": "stream",
     "text": [
      "average 48.0\n"
     ]
    }
   ],
   "source": [
    "# Question 5: Find the average of numbers in [15, 23, 31, 42, 56, 78, 91]\n",
    "\n",
    "numbers =  [15, 23, 31, 42, 56, 78, 91]\n",
    "average = sum(numbers) / len (numbers)\n",
    "print(\"average\",average)"
   ]
  },
  {
   "cell_type": "code",
   "execution_count": 27,
   "id": "a4c3622a-7b12-4d52-bdf7-e725f408ffd9",
   "metadata": {},
   "outputs": [
    {
     "name": "stdout",
     "output_type": "stream",
     "text": [
      "[0, 1, 1, 2, 3, 5, 8, 13, 21, 34, 55, 89, 144, 233, 377]\n"
     ]
    }
   ],
   "source": [
    "# Question 6: Create a list of first 15 Fibonacci numbers\n",
    "fibonacci = [0, 1]\n",
    "for i in range(2,15):\n",
    "    num = fibonacci[-1] + fibonacci[-2]\n",
    "    fibonacci.append(num)\n",
    "print(fibonacci)"
   ]
  },
  {
   "cell_type": "code",
   "execution_count": 40,
   "id": "9525875c-8fc2-4c91-a77d-6ca6cce82678",
   "metadata": {},
   "outputs": [
    {
     "data": {
      "text/plain": [
       "78"
      ]
     },
     "execution_count": 40,
     "metadata": {},
     "output_type": "execute_result"
    }
   ],
   "source": [
    "# Question 7: Find the second largest number in [45, 67, 23, 89, 12, 34, 78]\n",
    "n = [45, 67, 23, 89, 12, 34, 78]\n",
    "p = sorted(n,reverse = True)\n",
    "rev = p[1]\n",
    "rev"
   ]
  },
  {
   "cell_type": "code",
   "execution_count": 41,
   "id": "ee43ba98-e08b-4a5a-a5e0-39d84a20f7f3",
   "metadata": {},
   "outputs": [
    {
     "data": {
      "text/plain": [
       "[10, 9, 8, 7, 6, 5, 4, 3, 2, 1]"
      ]
     },
     "execution_count": 41,
     "metadata": {},
     "output_type": "execute_result"
    }
   ],
   "source": [
    "# Question 8: Reverse the list [1, 2, 3, 4, 5, 6, 7, 8, 9, 10]\n",
    "\n",
    "a = [1, 2, 3, 4, 5, 6, 7, 8, 9, 10]\n",
    "a[::-1]"
   ]
  },
  {
   "cell_type": "code",
   "execution_count": 43,
   "id": "96d071eb-dbf9-453b-a45c-cf0ffb8e051e",
   "metadata": {},
   "outputs": [
    {
     "data": {
      "text/plain": [
       "4"
      ]
     },
     "execution_count": 43,
     "metadata": {},
     "output_type": "execute_result"
    }
   ],
   "source": [
    "# Question 9: Count how many times 5 appears in [1, 5, 2, 5, 3, 5, 4, 5, 6]\n",
    "a = [1, 5, 2, 5, 3, 5, 4, 5, 6]\n",
    "res = a.count(5)\n",
    "res"
   ]
  },
  {
   "cell_type": "code",
   "execution_count": 2,
   "id": "ea3b33f5-d0ad-4efe-b541-0864d6340b65",
   "metadata": {},
   "outputs": [
    {
     "name": "stdout",
     "output_type": "stream",
     "text": [
      "[2, 3, 5, 7, 11, 13, 17, 19, 23, 29, 31, 37, 41, 43, 47]\n"
     ]
    }
   ],
   "source": [
    "# Question 10: Create a list of prime numbers between 1 and 50\n",
    "primes = []\n",
    "\n",
    "for num in range(2, 51):\n",
    "    for i in range(2,num):\n",
    "        if num % i == 0:\n",
    "            break\n",
    "    else:\n",
    "            primes.append(num)\n",
    "print(primes)\n",
    "        "
   ]
  },
  {
   "cell_type": "code",
   "execution_count": 2,
   "id": "30c9e640-f42d-4ff0-a444-7e8871cb6009",
   "metadata": {},
   "outputs": [
    {
     "name": "stdout",
     "output_type": "stream",
     "text": [
      "[1, 2, 3, 4, 5, 6, 7, 8, 9]\n"
     ]
    }
   ],
   "source": [
    "# Question 11: Flatten nested list [[1, 2, 3], [4, 5, 6], [7, 8, 9]]\n",
    "\n",
    "list = [[1, 2, 3], [4, 5, 6], [7, 8, 9]]\n",
    "flat_list = []\n",
    "for sublist in list:\n",
    "    for item in sublist:\n",
    "        flat_list.append(item)\n",
    "print(flat_list)"
   ]
  },
  {
   "cell_type": "code",
   "execution_count": 1,
   "id": "d4a92a56-9751-47da-be40-79d2b92e1e09",
   "metadata": {},
   "outputs": [
    {
     "name": "stdout",
     "output_type": "stream",
     "text": [
      "[4, 5]\n"
     ]
    }
   ],
   "source": [
    "# Question 12: Find common elements between [1, 2, 3, 4, 5] and [4, 5, 6, 7, 8]\n",
    "\n",
    "list1 = [1, 2, 3, 4, 5]\n",
    "list2 = [4, 5, 6, 7, 8]\n",
    "common= list(set(list1)&set(list2))\n",
    "print(common)"
   ]
  },
  {
   "cell_type": "code",
   "execution_count": 2,
   "id": "d698741c-e67f-4ad4-9615-d97441871752",
   "metadata": {},
   "outputs": [
    {
     "data": {
      "text/plain": [
       "[[1, 2], [3, 4], [5, 6]]"
      ]
     },
     "execution_count": 2,
     "metadata": {},
     "output_type": "execute_result"
    }
   ],
   "source": [
    "# Question 13: Create a list of lists: [[1, 2], [3, 4], [5, 6]]\n",
    "\n",
    "list = [[1, 2], [3, 4], [5, 6]]\n",
    "list"
   ]
  },
  {
   "cell_type": "code",
   "execution_count": 3,
   "id": "0182809c-a717-46ea-852e-810fff671c39",
   "metadata": {},
   "outputs": [
    {
     "name": "stdout",
     "output_type": "stream",
     "text": [
      "[6, 15, 24]\n"
     ]
    }
   ],
   "source": [
    "# Question 14: Find the sum of each sublist in [[1, 2, 3], [4, 5, 6], [7, 8, 9]]\n",
    "\n",
    "list = [[1, 2, 3], [4, 5, 6], [7, 8, 9]]\n",
    "res = []\n",
    "for sublist in list:\n",
    "    total = 0\n",
    "    for item in sublist:\n",
    "        total += item\n",
    "    res.append(total)\n",
    "print(res)"
   ]
  },
  {
   "cell_type": "code",
   "execution_count": 16,
   "id": "cf10bf84-cb0c-4068-99a1-129b3a7c0dc8",
   "metadata": {},
   "outputs": [
    {
     "name": "stdout",
     "output_type": "stream",
     "text": [
      "[[1, 4, 7], [2, 5, 8], [3, 6, 9]]\n"
     ]
    }
   ],
   "source": [
    "# Question 15: Transpose the matrix [[1, 2, 3], [4, 5, 6], [7, 8, 9]]\n",
    "\n",
    "matri = [[1, 2, 3], [4, 5, 6], [7, 8, 9]]\n",
    "tranpose=[]\n",
    "for i in range(3):\n",
    "    row = []\n",
    "    for j in range(3):\n",
    "        row.append(matrix[j][i])\n",
    "    tranpose.append(row)\n",
    "print(tranpose)"
   ]
  },
  {
   "cell_type": "code",
   "execution_count": 17,
   "id": "3edc06a5-3565-40d1-ae9a-b6b801dd884d",
   "metadata": {},
   "outputs": [
    {
     "name": "stdout",
     "output_type": "stream",
     "text": [
      "[5, 9, 8]\n"
     ]
    }
   ],
   "source": [
    "# Question 16: Find the maximum value in each sublist of [[1, 5, 3], [9, 2, 7], [4, 8, 6]]\n",
    "list = [[1, 5, 3], [9, 2, 7], [4, 8, 6]]\n",
    "res = []\n",
    "for sublist in list:\n",
    "    res.append(max(sublist))\n",
    "print(res)"
   ]
  },
  {
   "cell_type": "code",
   "execution_count": 18,
   "id": "faa3fe69-cde3-421c-878f-a99f6aaecff8",
   "metadata": {},
   "outputs": [
    {
     "name": "stdout",
     "output_type": "stream",
     "text": [
      "[[[1, 2], [3, 4]], [[5, 6], [7, 8]]]\n"
     ]
    }
   ],
   "source": [
    "# Question 17: Create a 3D list: [[[1, 2], [3, 4]], [[5, 6], [7, 8]]]\n",
    "\n",
    "list = [[[1, 2], [3, 4]], [[5, 6], [7, 8]]]\n",
    "print(list)"
   ]
  },
  {
   "cell_type": "code",
   "execution_count": 9,
   "id": "7fdcbeb3-a916-4f51-b62c-1b5bd6dcde72",
   "metadata": {},
   "outputs": [
    {
     "name": "stdout",
     "output_type": "stream",
     "text": [
      "36\n"
     ]
    }
   ],
   "source": [
    "# Question 18: Find the sum of all elements in 3D list [[[1, 2], [3, 4]], [[5, 6], [7, 8]]]\n",
    "\n",
    "list =  [[[1, 2], [3, 4]], [[5, 6], [7, 8]]]\n",
    "total = 0\n",
    "for items in list:\n",
    "    for item in items:\n",
    "        for i in item:\n",
    "            total += i\n",
    "print(total)        \n",
    "    "
   ]
  },
  {
   "cell_type": "code",
   "execution_count": 1,
   "id": "3ef3127d-1591-44cf-a634-b82569f2425e",
   "metadata": {},
   "outputs": [
    {
     "name": "stdout",
     "output_type": "stream",
     "text": [
      "[2, 4, 6, 8]\n"
     ]
    }
   ],
   "source": [
    "# Question 19: Extract all even numbers from nested list [[1, 2, 3], [4, 5, 6], [7, 8, 9]]\n",
    "\n",
    "list = [[1, 2, 3], [4, 5, 6], [7, 8, 9]]\n",
    "even = []\n",
    "for sublist in list:\n",
    "    for num in sublist:\n",
    "        if num%2 == 0:\n",
    "            even.append(num)\n",
    "print(even"
   ]
  },
  {
   "cell_type": "code",
   "execution_count": 30,
   "id": "80196f30-6e49-45f2-836d-090d14e780f0",
   "metadata": {},
   "outputs": [
    {
     "name": "stdout",
     "output_type": "stream",
     "text": [
      "[1, 'hello', 3.14, True, [1, 2, 3]]\n"
     ]
    }
   ],
   "source": [
    "# Question 20: Create a list of mixed data types: [1, \"hello\", 3.14, True, [1, 2, 3]]\n",
    "\n",
    "list = [1, \"hello\", 3.14, True, [1, 2, 3]]\n",
    "print(list)"
   ]
  },
  {
   "cell_type": "code",
   "execution_count": 6,
   "id": "96ce2d19-dfc9-4911-9221-e0c96c1f79a9",
   "metadata": {},
   "outputs": [
    {
     "name": "stdout",
     "output_type": "stream",
     "text": [
      "[5, 6, 6, 4]\n"
     ]
    }
   ],
   "source": [
    "# Question 21: Find the length of each string in [\"apple\", \"banana\", \"cherry\", \"date\"]\n",
    "list = [\"apple\", \"banana\", \"cherry\", \"date\"]\n",
    "length = []\n",
    "for i in list:\n",
    "    length.append(len(i))\n",
    "print(length)\n"
   ]
  },
  {
   "cell_type": "code",
   "execution_count": 4,
   "id": "1f9d9042-caaf-4d75-9f8f-399ced76d40c",
   "metadata": {},
   "outputs": [
    {
     "name": "stdout",
     "output_type": "stream",
     "text": [
      "[(1, 'a'), (2, 'b'), (3, 'c')]\n"
     ]
    }
   ],
   "source": [
    "# Question 22: Create a list of tuples: [(1, 'a'), (2, 'b'), (3, 'c')]\n",
    "list_tuple =  [(1, 'a'), (2, 'b'), (3, 'c')]\n",
    "print(list_tuple)"
   ]
  },
  {
   "cell_type": "code",
   "execution_count": 7,
   "id": "cad66d41-926a-41b2-bb1a-bb339f326290",
   "metadata": {},
   "outputs": [
    {
     "name": "stdout",
     "output_type": "stream",
     "text": [
      "[(1, 'a'), (2, 'b'), (3, 'c')]\n"
     ]
    }
   ],
   "source": [
    "# Question 23: Extract first element from each tuple in [(1, 'a'), (2, 'b'), (3, 'c')]\n",
    "\n",
    "list =  [(1, 'a'), (2, 'b'), (3, 'c')]\n",
    "first_element = []\n",
    "for i in list:\n",
    "    first_element.append(i)\n",
    "print(first_element)\n"
   ]
  },
  {
   "cell_type": "code",
   "execution_count": 3,
   "id": "ef280de4-3adf-4ca4-912c-0eb935aaad0f",
   "metadata": {},
   "outputs": [
    {
     "name": "stdout",
     "output_type": "stream",
     "text": [
      "[{'name': 'Alice', 'age': 25}, {'name': 'Bob', 'age': 30}]\n"
     ]
    }
   ],
   "source": [
    "# Question 24: Create a list of dictionaries: [{'name': 'Alice', 'age': 25}, {'name': 'Bob', 'age': 30}]\n",
    "\n",
    "list = [{'name': 'Alice', 'age': 25}, {'name': 'Bob', 'age': 30}]\n",
    "print(list)\n"
   ]
  },
  {
   "cell_type": "code",
   "execution_count": 15,
   "id": "15429f8c-01f5-4adb-97de-f51f0b5b45df",
   "metadata": {},
   "outputs": [
    {
     "name": "stdout",
     "output_type": "stream",
     "text": [
      "['Alice', 'Bob']\n"
     ]
    }
   ],
   "source": [
    "# Question 25: Extract all 'name' values from list of dictionaries\n",
    "dict = [{'name': 'Alice', 'age': 25}, {'name': 'Bob', 'age': 30}]\n",
    "names = []\n",
    "for person in dict:\n",
    "    names.append(person['name'])\n",
    "print(names)"
   ]
  },
  {
   "cell_type": "code",
   "execution_count": 22,
   "id": "eab90048-4847-4753-9bf3-79b750ec5099",
   "metadata": {},
   "outputs": [
    {
     "name": "stdout",
     "output_type": "stream",
     "text": [
      "Bob is the oldest with age 30\n"
     ]
    }
   ],
   "source": [
    "# Question 26: Find the person with maximum age in list of dictionaries\n",
    "list = [{'name': 'Alice', 'age': 25}, {'name': 'Bob', 'age': 30}]\n",
    "max_age = 0\n",
    "oldest = \"\"\n",
    "for person in list:\n",
    "    person[\"age\"] > max_age;\n",
    "    max_age = person[\"age\"]\n",
    "    oldest = person[\"name\"]\n",
    "print(oldest, \"is the oldest with age\", max_age)"
   ]
  },
  {
   "cell_type": "code",
   "execution_count": 1,
   "id": "bdfdf974-b7a4-455c-886f-46cf8c8f6a5a",
   "metadata": {},
   "outputs": [
    {
     "name": "stdout",
     "output_type": "stream",
     "text": [
      "[[[[1, 2], [3, 4]], [[5, 6], [7, 8]]], [[[9, 10], [11, 12]], [[13, 14], [15, 16]]]]\n"
     ]
    }
   ],
   "source": [
    "# Question 27: Create a 4D list: [[[[1, 2], [3, 4]], [[5, 6], [7, 8]]], [[[9, 10], [11, 12]], [[13, 14], [15, 16]]]]\n",
    "list_4D = [[[[1, 2], [3, 4]], \n",
    "            [[5, 6], [7, 8]]], \n",
    "           [[[9, 10], [11, 12]],\n",
    "            [[13, 14], [15, 16]]]\n",
    "          ]\n",
    "print(list_4D)\n",
    "\n"
   ]
  },
  {
   "cell_type": "code",
   "execution_count": 4,
   "id": "003a70fc-32dd-4bec-a9b9-c3744b785356",
   "metadata": {},
   "outputs": [
    {
     "name": "stdout",
     "output_type": "stream",
     "text": [
      "16\n"
     ]
    }
   ],
   "source": [
    "# Question 28: Find the maximum value in 4D list\n",
    "matrix = [[[[1, 2], [3, 4]],[[5, 6], [7, 8]]],[[[9, 10], [11, 12]],[[13, 14], [15, 16]]]]\n",
    "max = 0\n",
    "for items in matrix:\n",
    "    for item in items:\n",
    "        for i in item:\n",
    "            for x in i:\n",
    "             if x > max:\n",
    "                max = x\n",
    "print(max)"
   ]
  },
  {
   "cell_type": "code",
   "execution_count": 2,
   "id": "6812c2db-bd4e-4751-9ffd-3d98a77d5169",
   "metadata": {},
   "outputs": [
    {
     "name": "stdout",
     "output_type": "stream",
     "text": [
      "[{1, 2, 3}, {4, 5, 6}, {8, 9, 7}]\n"
     ]
    }
   ],
   "source": [
    "# Question 29: Create a list of sets: [{1, 2, 3}, {4, 5, 6}, {7, 8, 9}]\n",
    "a = list([\n",
    "    set([1, 2, 3]),\n",
    "    set([4, 5, 6]),\n",
    "    set([7, 8, 9])\n",
    "])\n",
    "\n",
    "print(a)"
   ]
  },
  {
   "cell_type": "code",
   "execution_count": 3,
   "id": "f907677a-d4a0-42d3-b7c9-1a044302ddc8",
   "metadata": {},
   "outputs": [
    {
     "name": "stdout",
     "output_type": "stream",
     "text": [
      "{1, 2, 3, 4, 5, 6, 7, 8, 9}\n"
     ]
    }
   ],
   "source": [
    "# Question 30: Find the union of all sets in list of sets\n",
    "result = set()          \n",
    "for s in a:\n",
    "    result = result.union(s)\n",
    "\n",
    "print(result)"
   ]
  },
  {
   "cell_type": "code",
   "execution_count": 11,
   "id": "f04d0200-5823-499c-bfdb-3a64eaacf5a6",
   "metadata": {},
   "outputs": [
    {
     "data": {
      "text/plain": [
       "[(1+2j), (3+4j), (5+6j)]"
      ]
     },
     "execution_count": 11,
     "metadata": {},
     "output_type": "execute_result"
    }
   ],
   "source": [
    "# Question 31: Create a list of complex numbers: [1+2j, 3+4j, 5+6j]\n",
    "a =  [1+2j, 3+4j, 5+6j]\n",
    "a"
   ]
  },
  {
   "cell_type": "code",
   "execution_count": 3,
   "id": "1093d1a0-7cfb-4890-9a63-b20dc707b119",
   "metadata": {},
   "outputs": [
    {
     "name": "stdout",
     "output_type": "stream",
     "text": [
      "[2.23606797749979, 5.0, 7.810249675906654]\n"
     ]
    }
   ],
   "source": [
    "# Question 32: Find the magnitude of each complex number in list\n",
    "a =  [1+2j, 3+4j, 5+6j]\n",
    "magnitude = []\n",
    "for num in a:\n",
    "    magnitude.append(abs(num))\n",
    "print(magnitude)"
   ]
  },
  {
   "cell_type": "code",
   "execution_count": 4,
   "id": "ceede4f3-5b35-4a30-9ec0-f4adb07da2fa",
   "metadata": {},
   "outputs": [
    {
     "name": "stdout",
     "output_type": "stream",
     "text": [
      "[1, [2, 3], [4, [5, 6]], 7]\n"
     ]
    }
   ],
   "source": [
    "# Question 33: Create a nested list with different levels: [1, [2, 3], [4, [5, 6]], 7]\n",
    "nested_list =  [1, [2, 3], [4, [5, 6]], 7]\n",
    "print(nested_list)"
   ]
  },
  {
   "cell_type": "code",
   "execution_count": 8,
   "id": "b7cc534a-7909-4a33-b8b1-ddc4908f212c",
   "metadata": {},
   "outputs": [
    {
     "name": "stdout",
     "output_type": "stream",
     "text": [
      "3\n"
     ]
    }
   ],
   "source": [
    "# Question 34: Count the depth of nesting in [1, [2, 3], [4, [5, 6]], 7]\n",
    "def depth(lst):\n",
    "    if not isinstance(lst, list):\n",
    "        return 0\n",
    "    return 1 + max([depth(item) for item in lst], default=0)\n",
    "\n",
    "print(depth([1, [2, 3], [4, [5, 6]], 7]))"
   ]
  },
  {
   "cell_type": "code",
   "execution_count": 9,
   "id": "d2a334ae-0fd8-4824-98c6-3235266718f6",
   "metadata": {},
   "outputs": [
    {
     "name": "stdout",
     "output_type": "stream",
     "text": [
      "[<built-in function len>, <class 'str'>, <class 'int'>, <class 'float'>]\n"
     ]
    }
   ],
   "source": [
    "# Question 35: Create a list of functions: [len, str, int, float]\n",
    "list_fun = [len, str, int, float]\n",
    "print(list_fun)"
   ]
  },
  {
   "cell_type": "code",
   "execution_count": 11,
   "id": "5284e551-7582-4ef6-83d7-7af187db0ce1",
   "metadata": {},
   "outputs": [
    {
     "name": "stdout",
     "output_type": "stream",
     "text": [
      "[3, '123', 123, 123.0]\n"
     ]
    }
   ],
   "source": [
    "# Question 36: Apply each function in list to string \"123\"\n",
    "list_fun = [len, str, int, float]\n",
    "string = \"123\"\n",
    "res = [func(string) for func in list_fun]\n",
    "print(res)"
   ]
  },
  {
   "cell_type": "code",
   "execution_count": 29,
   "id": "f5053c60-eeeb-4dd4-b97e-14228857e598",
   "metadata": {},
   "outputs": [
    {
     "name": "stdout",
     "output_type": "stream",
     "text": [
      "[<function <lambda> at 0x00000150488005E0>, <function <lambda> at 0x00000150488004A0>, <function <lambda> at 0x00000150488037E0>]\n"
     ]
    }
   ],
   "source": [
    "# Question 37: Create a list of lambda functions: [lambda x: x*2, lambda x: x**2, lambda x: x+1]\n",
    "\n",
    "funcs = [lambda x: x*2, \n",
    "    lambda x: x**2, \n",
    "    lambda x: x+1]\n",
    "print(funcs)"
   ]
  },
  {
   "cell_type": "code",
   "execution_count": 30,
   "id": "555f7dac-1f14-495a-b5e2-e766b8ff15af",
   "metadata": {},
   "outputs": [
    {
     "name": "stdout",
     "output_type": "stream",
     "text": [
      "[10, 25, 6]\n"
     ]
    }
   ],
   "source": [
    "# Question 38: Apply each lambda function to 5\n",
    "results = [func(5) for func in funcs]\n",
    "print(results)"
   ]
  },
  {
   "cell_type": "code",
   "execution_count": 5,
   "id": "2d6a4440-03dd-4d81-98b8-a8507994f729",
   "metadata": {},
   "outputs": [
    {
     "name": "stdout",
     "output_type": "stream",
     "text": [
      "[<class 'list'>, <class 'dict'>, <class 'set'>, <class 'tuple'>]\n"
     ]
    }
   ],
   "source": [
    "# Question 39: Create a list of classes: [list, dict, set, tuple]\n",
    "classes =  [list, dict, set, tuple]\n",
    "print(classes)"
   ]
  },
  {
   "cell_type": "code",
   "execution_count": 6,
   "id": "dfa67316-5615-4438-8b3e-5256e106ac27",
   "metadata": {},
   "outputs": [
    {
     "name": "stdout",
     "output_type": "stream",
     "text": [
      "[[], set(), {}, ()]\n"
     ]
    }
   ],
   "source": [
    "# Question 40: Create instances of each class in list\n",
    "word=[list,set,dict,tuple]\n",
    "inst=[cls()for cls in word]\n",
    "print(inst)"
   ]
  },
  {
   "cell_type": "code",
   "execution_count": 10,
   "id": "16903fdc-e277-4940-af8b-da0dff7bafb2",
   "metadata": {},
   "outputs": [
    {
     "data": {
      "text/plain": [
       "[None, None, None, None]"
      ]
     },
     "execution_count": 10,
     "metadata": {},
     "output_type": "execute_result"
    }
   ],
   "source": [
    "# Question 41: Create a list of None values: [None, None, None, None]\n",
    "\n",
    "None_list = [None, None, None, None]\n",
    "None_list\n"
   ]
  },
  {
   "cell_type": "code",
   "execution_count": 11,
   "id": "ec4f0bf9-24fa-4529-8aa5-90d703096f8d",
   "metadata": {},
   "outputs": [
    {
     "name": "stdout",
     "output_type": "stream",
     "text": [
      "[0, 0, 0, 0]\n"
     ]
    }
   ],
   "source": [
    "# Question 42: Replace all None values with 0 in list\n",
    "None_list = [None, None, None, None]\n",
    "res = [0 if x is None else x for x in None_list]\n",
    "print(res)"
   ]
  },
  {
   "cell_type": "code",
   "execution_count": 12,
   "id": "f26d6ec3-2405-450b-9a5c-45f7887fb0f1",
   "metadata": {},
   "outputs": [
    {
     "data": {
      "text/plain": [
       "[True, False, True, False]"
      ]
     },
     "execution_count": 12,
     "metadata": {},
     "output_type": "execute_result"
    }
   ],
   "source": [
    "# Question 43: Create a list of boolean values: [True, False, True, False]\n",
    "\n",
    "list =  [True, False, True, False]\n",
    "list"
   ]
  },
  {
   "cell_type": "code",
   "execution_count": 17,
   "id": "b7f035e5-31e3-4718-a7d3-7cbbbfb9886f",
   "metadata": {},
   "outputs": [
    {
     "name": "stdout",
     "output_type": "stream",
     "text": [
      "2\n"
     ]
    }
   ],
   "source": [
    "# Question 44: Count True values in boolean list\n",
    "list =  [True, False, True, False]\n",
    "count_true = sum(list)\n",
    "print(count_true)"
   ]
  },
  {
   "cell_type": "code",
   "execution_count": 25,
   "id": "ff4210c7-f789-4f5b-acd7-224a257de376",
   "metadata": {},
   "outputs": [
    {
     "name": "stdout",
     "output_type": "stream",
     "text": [
      "[range(0, 3), range(0, 5), range(0, 2)]\n"
     ]
    }
   ],
   "source": [
    "# Question 45: Create a list of ranges: [range(3), range(5), range(2)]\n",
    "\n",
    "res =  [range(3), range(5), range(2)]\n",
    "print(res)"
   ]
  },
  {
   "cell_type": "code",
   "execution_count": 3,
   "id": "4c3bff07-a885-4bed-9f52-a7495d09ddbf",
   "metadata": {},
   "outputs": [
    {
     "name": "stdout",
     "output_type": "stream",
     "text": [
      "[[0, 1, 2], [0, 1, 2, 3, 4], [0, 1]]\n"
     ]
    }
   ],
   "source": [
    "# Question 46: Convert each range to list\n",
    "res=[range(3),range(5),range(2)]\n",
    "lists=[list(r) for r in res]\n",
    "print(lists)"
   ]
  },
  {
   "cell_type": "code",
   "execution_count": 3,
   "id": "5ea43ed7-ed22-40e4-80b2-e7d74225387e",
   "metadata": {},
   "outputs": [
    {
     "name": "stdout",
     "output_type": "stream",
     "text": [
      "[<generator object <genexpr> at 0x000001DEF346E8C0>, <generator object <genexpr> at 0x000001DEF346E500>]\n"
     ]
    }
   ],
   "source": [
    "# Question 47: Create a list of generators: [(x for x in range(3)), (x for x in range(5))]\n",
    "\n",
    "gen_list = [(x for x in range(3)), (x for x in range(5))]\n",
    "print(gen_list)"
   ]
  },
  {
   "cell_type": "code",
   "execution_count": 4,
   "id": "c426d7c2-6fdf-4a24-b483-a70c95abc411",
   "metadata": {},
   "outputs": [
    {
     "name": "stdout",
     "output_type": "stream",
     "text": [
      "[[0, 1, 2], [0, 1, 2, 3, 4]]\n"
     ]
    }
   ],
   "source": [
    "# Question 48: Convert each generator to list\n",
    "gen_list = [(x for x in range(3)), (x for x in range(5))]\n",
    "\n",
    "gens_to_lists = [list(g) for g in gen_list]\n",
    "print(gens_to_lists)"
   ]
  },
  {
   "cell_type": "code",
   "execution_count": 1,
   "id": "315cd3bb-e173-4fa2-b1a3-a620001834b4",
   "metadata": {},
   "outputs": [
    {
     "name": "stdout",
     "output_type": "stream",
     "text": [
      "[<list_iterator object at 0x000001DEF35B6710>, <list_iterator object at 0x000001DEF35B75E0>]\n"
     ]
    }
   ],
   "source": [
    "# Question 49: Create a list of iterators: [iter([1, 2, 3]), iter([4, 5, 6])]\n",
    "iters = [iter([1, 2, 3]), iter([4, 5, 6])]\n",
    "print(iters)"
   ]
  },
  {
   "cell_type": "code",
   "execution_count": 1,
   "id": "08b01711-006a-4059-8c87-088611a5dd86",
   "metadata": {},
   "outputs": [
    {
     "name": "stdout",
     "output_type": "stream",
     "text": [
      "[[1, 2, 3], [4, 5, 6]]\n"
     ]
    }
   ],
   "source": [
    "# Question 50: Extract all elements from each iterator\n",
    "iters = [iter([1, 2, 3]), iter([4, 5, 6])]\n",
    "\n",
    "result = [list(it) for it in iters]\n",
    "print(result)"
   ]
  },
  {
   "cell_type": "code",
   "execution_count": null,
   "id": "99a7315b-da85-46dc-a828-052c0b168d66",
   "metadata": {},
   "outputs": [],
   "source": []
  }
 ],
 "metadata": {
  "kernelspec": {
   "display_name": "Python 3 (ipykernel)",
   "language": "python",
   "name": "python3"
  },
  "language_info": {
   "codemirror_mode": {
    "name": "ipython",
    "version": 3
   },
   "file_extension": ".py",
   "mimetype": "text/x-python",
   "name": "python",
   "nbconvert_exporter": "python",
   "pygments_lexer": "ipython3",
   "version": "3.13.5"
  }
 },
 "nbformat": 4,
 "nbformat_minor": 5
}
