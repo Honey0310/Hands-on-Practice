{
 "cells": [
  {
   "cell_type": "code",
   "execution_count": 1,
   "id": "d90ba0c8-1522-4ac8-989c-bdd1b6b4a51b",
   "metadata": {},
   "outputs": [
    {
     "data": {
      "text/plain": [
       "(1, 2, 3, 4, 5, 6, 7, 8, 9, 10)"
      ]
     },
     "execution_count": 1,
     "metadata": {},
     "output_type": "execute_result"
    }
   ],
   "source": [
    "# Question 1: Create a tuple of first 10 natural numbers\n",
    "\n",
    "natural_numbers = tuple(range(1,11))\n",
    "natural_numbers"
   ]
  },
  {
   "cell_type": "code",
   "execution_count": 3,
   "id": "b87d954f-d32d-4505-b11a-462839338ffc",
   "metadata": {},
   "outputs": [
    {
     "name": "stdout",
     "output_type": "stream",
     "text": [
      "10\n"
     ]
    }
   ],
   "source": [
    "# Question 2: Find the length of tuple (1, 2, 3, 4, 5, 6, 7, 8, 9, 10)\n",
    "\n",
    "a = (1, 2, 3, 4, 5, 6, 7, 8, 9, 10)\n",
    "print(len(a))"
   ]
  },
  {
   "cell_type": "code",
   "execution_count": 3,
   "id": "9eea043c-a778-4151-be83-8293d9a37d3f",
   "metadata": {},
   "outputs": [
    {
     "name": "stdout",
     "output_type": "stream",
     "text": [
      "c\n"
     ]
    }
   ],
   "source": [
    "# Question 3: Access the 3rd element from tuple ('a', 'b', 'c', 'd', 'e')\n",
    "\n",
    "a = ('a', 'b', 'c', 'd', 'e')\n",
    "print(a[2])"
   ]
  },
  {
   "cell_type": "code",
   "execution_count": 7,
   "id": "4f2977a2-0391-48e8-a2cf-85c53739e88a",
   "metadata": {},
   "outputs": [
    {
     "name": "stdout",
     "output_type": "stream",
     "text": [
      "89\n"
     ]
    }
   ],
   "source": [
    "# Question 4: Find the maximum value in tuple (23, 45, 12, 67, 34, 89, 56)\n",
    "\n",
    "a =  (23, 45, 12, 67, 34, 89, 56)\n",
    "print(max(a))"
   ]
  },
  {
   "cell_type": "code",
   "execution_count": 8,
   "id": "f9cb83bc-d6d0-424e-a029-63dcafc8dd15",
   "metadata": {},
   "outputs": [
    {
     "data": {
      "text/plain": [
       "4"
      ]
     },
     "execution_count": 8,
     "metadata": {},
     "output_type": "execute_result"
    }
   ],
   "source": [
    "# Question 5: Count how many times 5 appears in (1, 5, 2, 5, 3, 5, 4, 5, 6)\n",
    "\n",
    "a = (1, 5, 2, 5, 3, 5, 4, 5, 6)\n",
    "a.count(5)"
   ]
  },
  {
   "cell_type": "code",
   "execution_count": 10,
   "id": "dfd0e8bf-3ea0-492b-aeac-078ce12e4c42",
   "metadata": {},
   "outputs": [
    {
     "data": {
      "text/plain": [
       "(10, 20.3, 'data', True)"
      ]
     },
     "execution_count": 10,
     "metadata": {},
     "output_type": "execute_result"
    }
   ],
   "source": [
    "# Question 6: Create a tuple of mixed data types (integer, float, string, boolean)\n",
    "\n",
    "a =  (10,20.3,\"data\",True)\n",
    "a"
   ]
  },
  {
   "cell_type": "code",
   "execution_count": 19,
   "id": "cdd342df-2a55-4ce0-a592-e36e680631f5",
   "metadata": {},
   "outputs": [
    {
     "data": {
      "text/plain": [
       "1"
      ]
     },
     "execution_count": 19,
     "metadata": {},
     "output_type": "execute_result"
    }
   ],
   "source": [
    "# Question 7: Find the index of element 'python' in ('java', 'python', 'c++', 'javascript')\n",
    "\n",
    "a = ('java', 'python', 'c++', 'javascript')\n",
    "a.index('python')\n"
   ]
  },
  {
   "cell_type": "code",
   "execution_count": 1,
   "id": "dad052b1-4077-4d1d-af93-07a1f7b54c2d",
   "metadata": {},
   "outputs": [
    {
     "name": "stdout",
     "output_type": "stream",
     "text": [
      "25 is present\n"
     ]
    }
   ],
   "source": [
    "# Question 8: Check if 25 exists in tuple (10, 20, 30, 40, 50)\n",
    "\n",
    "a = (10, 20, 30, 40, 50)\n",
    "if 25 in a:\n",
    "    print(\"25 is present\")\n",
    "else:\n",
    "    print(\"25 is not present\")"
   ]
  },
  {
   "cell_type": "code",
   "execution_count": 22,
   "id": "463e582e-30d1-494c-b2da-666c8a66da1c",
   "metadata": {},
   "outputs": [
    {
     "data": {
      "text/plain": [
       "(2, 4, 6, 8, 10)"
      ]
     },
     "execution_count": 22,
     "metadata": {},
     "output_type": "execute_result"
    }
   ],
   "source": [
    "# Question 9: Create a tuple of first 5 even numbers\n",
    "\n",
    "a = tuple(range(2,12,2))\n",
    "a"
   ]
  },
  {
   "cell_type": "code",
   "execution_count": 23,
   "id": "a434e829-ea59-4f07-af11-d1b73c8b644d",
   "metadata": {},
   "outputs": [
    {
     "name": "stdout",
     "output_type": "stream",
     "text": [
      "Average 40.833333333333336\n"
     ]
    }
   ],
   "source": [
    "# Question 10: Find the average of numbers in tuple (15, 23, 31, 42, 56, 78)\n",
    "\n",
    "a = (15, 23, 31, 42, 56, 78)\n",
    "average = sum(a) / len(a)\n",
    "print(\"Average\", average)"
   ]
  },
  {
   "cell_type": "code",
   "execution_count": null,
   "id": "fa27d464-877a-4a26-87e8-725ddb19e36b",
   "metadata": {},
   "outputs": [],
   "source": []
  }
 ],
 "metadata": {
  "kernelspec": {
   "display_name": "Python 3 (ipykernel)",
   "language": "python",
   "name": "python3"
  },
  "language_info": {
   "codemirror_mode": {
    "name": "ipython",
    "version": 3
   },
   "file_extension": ".py",
   "mimetype": "text/x-python",
   "name": "python",
   "nbconvert_exporter": "python",
   "pygments_lexer": "ipython3",
   "version": "3.13.5"
  }
 },
 "nbformat": 4,
 "nbformat_minor": 5
}
