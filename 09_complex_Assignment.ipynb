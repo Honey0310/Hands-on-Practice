{
 "cells": [
  {
   "cell_type": "code",
   "execution_count": 1,
   "id": "a91433c4-ceb2-4f9a-bd0f-0403f7b9a96b",
   "metadata": {},
   "outputs": [
    {
     "data": {
      "text/plain": [
       "(5+3j)"
      ]
     },
     "execution_count": 1,
     "metadata": {},
     "output_type": "execute_result"
    }
   ],
   "source": [
    "# Question 1: Create complex number 5 + 3j\n",
    "a = 5+3j\n",
    "a"
   ]
  },
  {
   "cell_type": "code",
   "execution_count": 3,
   "id": "756cb16f-d778-429e-a125-130adda93a54",
   "metadata": {},
   "outputs": [
    {
     "name": "stdout",
     "output_type": "stream",
     "text": [
      "7.0\n"
     ]
    }
   ],
   "source": [
    "# Question 2: Find the real part of complex number 7 - 2j\n",
    "\n",
    "a = 7 - 2j\n",
    "print(a.real)"
   ]
  },
  {
   "cell_type": "code",
   "execution_count": 2,
   "id": "86bc1cff-78f5-43ab-ab1b-b48b7a237af1",
   "metadata": {},
   "outputs": [
    {
     "name": "stdout",
     "output_type": "stream",
     "text": [
      "6.0\n"
     ]
    }
   ],
   "source": [
    "# Question 3: Find the imaginary part of complex number 4 + 6j\n",
    "\n",
    "a =4+6j\n",
    "print(a.imag)"
   ]
  },
  {
   "cell_type": "code",
   "execution_count": 4,
   "id": "6246d5e0-1f11-4afb-a006-66fcf057c23e",
   "metadata": {},
   "outputs": [
    {
     "name": "stdout",
     "output_type": "stream",
     "text": [
      "(4+6j)\n"
     ]
    }
   ],
   "source": [
    "# Question 4: Add two complex numbers: (3 + 2j) and (1 + 4j)\n",
    "\n",
    "a = (3 + 2j)\n",
    "b =  (1 + 4j)\n",
    "c = a+b\n",
    "print(c)"
   ]
  },
  {
   "cell_type": "code",
   "execution_count": 5,
   "id": "0ae7adf8-6181-487a-ba52-06a411529862",
   "metadata": {},
   "outputs": [
    {
     "name": "stdout",
     "output_type": "stream",
     "text": [
      "(-4+7j)\n"
     ]
    }
   ],
   "source": [
    "# Question 5: Multiply two complex numbers: (2 + 3j) and (1 + 2j)\n",
    "\n",
    "a = (2 + 3j)\n",
    "b = (1 + 2j)\n",
    "c = a*b\n",
    "print(c)"
   ]
  },
  {
   "cell_type": "code",
   "execution_count": 6,
   "id": "7448cebc-a7e1-4853-a888-64b97c751879",
   "metadata": {},
   "outputs": [
    {
     "name": "stdout",
     "output_type": "stream",
     "text": [
      "10.0\n"
     ]
    }
   ],
   "source": [
    "# Question 6: Find the magnitude of complex number 6 + 8j\n",
    "\n",
    "a = 6+8j\n",
    "print(abs(a))"
   ]
  },
  {
   "cell_type": "code",
   "execution_count": 7,
   "id": "0e9e2ebb-1746-46b0-8c76-ceccf710c7fd",
   "metadata": {},
   "outputs": [
    {
     "data": {
      "text/plain": [
       "(5+7j)"
      ]
     },
     "execution_count": 7,
     "metadata": {},
     "output_type": "execute_result"
    }
   ],
   "source": [
    "# Question 7: Find the conjugate of complex number 5 - 7j\n",
    "a = 5 - 7j\n",
    "a.conjugate()"
   ]
  },
  {
   "cell_type": "code",
   "execution_count": 9,
   "id": "8b44665b-03e7-44af-b60e-568039df5265",
   "metadata": {},
   "outputs": [
    {
     "data": {
      "text/plain": [
       "(7+3j)"
      ]
     },
     "execution_count": 9,
     "metadata": {},
     "output_type": "execute_result"
    }
   ],
   "source": [
    "# Question 8: Subtract complex numbers: (10 + 5j) - (3 + 2j)\n",
    "\n",
    "a = (10 + 5j) - (3 + 2j)\n",
    "a"
   ]
  },
  {
   "cell_type": "code",
   "execution_count": 10,
   "id": "e590592d-9553-4100-aab5-43f8087de590",
   "metadata": {},
   "outputs": [
    {
     "data": {
      "text/plain": [
       "(4.4+0.8j)"
      ]
     },
     "execution_count": 10,
     "metadata": {},
     "output_type": "execute_result"
    }
   ],
   "source": [
    "# Question 9: Divide complex numbers: (8 + 6j) / (2 + 1j)\n",
    "\n",
    "a = (8 + 6j) / (2 + 1j)\n",
    "a"
   ]
  },
  {
   "cell_type": "code",
   "execution_count": 14,
   "id": "43352f31-10f2-4f26-a75d-61a4fc44f5be",
   "metadata": {},
   "outputs": [
    {
     "name": "stdout",
     "output_type": "stream",
     "text": [
      "0.7853981633974483\n"
     ]
    }
   ],
   "source": [
    "# Question 10: Find the phase angle of complex number 1 + 1j\n",
    "import cmath\n",
    "a = complex(1+1j)\n",
    "phase_angle = cmath.phase(a)\n",
    "print(phase_angle)"
   ]
  },
  {
   "cell_type": "code",
   "execution_count": null,
   "id": "581a9f2c-0b3b-43fc-967e-ebff84af07a9",
   "metadata": {},
   "outputs": [],
   "source": []
  }
 ],
 "metadata": {
  "kernelspec": {
   "display_name": "Python 3 (ipykernel)",
   "language": "python",
   "name": "python3"
  },
  "language_info": {
   "codemirror_mode": {
    "name": "ipython",
    "version": 3
   },
   "file_extension": ".py",
   "mimetype": "text/x-python",
   "name": "python",
   "nbconvert_exporter": "python",
   "pygments_lexer": "ipython3",
   "version": "3.13.5"
  }
 },
 "nbformat": 4,
 "nbformat_minor": 5
}
