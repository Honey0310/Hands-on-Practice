{
 "cells": [
  {
   "cell_type": "code",
   "execution_count": 15,
   "id": "e1e8a736-cbad-4324-aef1-34f04223526a",
   "metadata": {},
   "outputs": [
    {
     "name": "stdout",
     "output_type": "stream",
     "text": [
      "product of first 10 natural numbers 1\n",
      "product of first 10 natural numbers 2\n",
      "product of first 10 natural numbers 6\n",
      "product of first 10 natural numbers 24\n",
      "product of first 10 natural numbers 120\n",
      "product of first 10 natural numbers 720\n",
      "product of first 10 natural numbers 5040\n",
      "product of first 10 natural numbers 40320\n",
      "product of first 10 natural numbers 362880\n",
      "product of first 10 natural numbers 3628800\n"
     ]
    }
   ],
   "source": [
    "product = 1\n",
    "for i in range(1,11):\n",
    "    product *= i\n",
    "print(\"product of first 10 natural numbers\",product)"
   ]
  },
  {
   "cell_type": "code",
   "execution_count": 17,
   "id": "323ce35b-ffc6-4e2a-9769-0bef7e593f08",
   "metadata": {},
   "outputs": [
    {
     "name": "stdout",
     "output_type": "stream",
     "text": [
      "2\n"
     ]
    }
   ],
   "source": [
    "remainder=0\n",
    "remainder = print(156%7)"
   ]
  },
  {
   "cell_type": "code",
   "execution_count": 18,
   "id": "35fb3a78-3d50-499e-884d-f863d4acad1d",
   "metadata": {},
   "outputs": [
    {
     "name": "stdout",
     "output_type": "stream",
     "text": [
      "625\n"
     ]
    }
   ],
   "source": [
    "number = 25\n",
    "square = number * 25\n",
    "print(square)\n"
   ]
  },
  {
   "cell_type": "code",
   "execution_count": 27,
   "id": "7651fd4f-f973-45de-a383-9544977f552d",
   "metadata": {},
   "outputs": [
    {
     "name": "stdout",
     "output_type": "stream",
     "text": [
      "1953125\n"
     ]
    }
   ],
   "source": [
    "number = 125\n",
    "cube_root = 125**3\n",
    "print(cube_root)"
   ]
  },
  {
   "cell_type": "code",
   "execution_count": 32,
   "id": "8958413e-5e6a-4a57-930a-3cda80e48c2c",
   "metadata": {},
   "outputs": [
    {
     "name": "stdout",
     "output_type": "stream",
     "text": [
      "sum of digits 15\n"
     ]
    }
   ],
   "source": [
    "sum  = 0\n",
    "for i in range(1,6):\n",
    "    sum  += i\n",
    "print(\"sum of digits\", sum)"
   ]
  },
  {
   "cell_type": "code",
   "execution_count": 39,
   "id": "b979e5b5-161c-4c44-bbd1-19e43562fac6",
   "metadata": {},
   "outputs": [],
   "source": [
    "prime = 97\n",
    "if 97%2==1:\n",
    "    print(\" it is a prime number\")"
   ]
  },
  {
   "cell_type": "code",
   "execution_count": 46,
   "id": "82302ed3-33b5-4560-8cb6-7da937f26555",
   "metadata": {},
   "outputs": [
    {
     "name": "stdout",
     "output_type": "stream",
     "text": [
      "factorial of 8 is 40320\n"
     ]
    }
   ],
   "source": [
    "fact=1\n",
    "for i in range(1,9):\n",
    "    fact*=i\n",
    "print(\"factorial of 8 is\",fact)\n"
   ]
  },
  {
   "cell_type": "code",
   "execution_count": 53,
   "id": "9d8d64d3-1e7c-4e78-a571-a734e857f09f",
   "metadata": {},
   "outputs": [
    {
     "name": "stdout",
     "output_type": "stream",
     "text": [
      "average of numbers is  83.5\n"
     ]
    }
   ],
   "source": [
    "avg = 0\n",
    "sum = (15+23+31+42+56)/2\n",
    "print(\"average of numbers is \",sum)"
   ]
  },
  {
   "cell_type": "code",
   "execution_count": 56,
   "id": "7ae779a8-dc62-4acd-8e11-995bf425860f",
   "metadata": {},
   "outputs": [
    {
     "data": {
      "text/plain": [
       "12"
      ]
     },
     "execution_count": 56,
     "metadata": {},
     "output_type": "execute_result"
    }
   ],
   "source": [
    "import math\n",
    "math.gcd(48,36)"
   ]
  },
  {
   "cell_type": "code",
   "execution_count": 64,
   "id": "5239aec3-940d-49fb-ad78-36611909e1fa",
   "metadata": {},
   "outputs": [
    {
     "name": "stdout",
     "output_type": "stream",
     "text": [
      "400\n"
     ]
    }
   ],
   "source": [
    "sum=0\n",
    "for i in range(1,40,2):\n",
    "    sum += i\n",
    "print(sum)"
   ]
  },
  {
   "cell_type": "code",
   "execution_count": null,
   "id": "b9eca822-a570-4916-9fa2-210efd3e0f9a",
   "metadata": {},
   "outputs": [],
   "source": [
    "\n"
   ]
  }
 ],
 "metadata": {
  "kernelspec": {
   "display_name": "Python 3 (ipykernel)",
   "language": "python",
   "name": "python3"
  },
  "language_info": {
   "codemirror_mode": {
    "name": "ipython",
    "version": 3
   },
   "file_extension": ".py",
   "mimetype": "text/x-python",
   "name": "python",
   "nbconvert_exporter": "python",
   "pygments_lexer": "ipython3",
   "version": "3.13.5"
  }
 },
 "nbformat": 4,
 "nbformat_minor": 5
}
