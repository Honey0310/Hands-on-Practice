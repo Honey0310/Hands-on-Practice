{
 "cells": [
  {
   "cell_type": "code",
   "execution_count": 1,
   "id": "7992ef98-ce02-4cd0-8be7-b9813675eafe",
   "metadata": {},
   "outputs": [
    {
     "name": "stdout",
     "output_type": "stream",
     "text": [
      "gnimmargorp nohtyp\n"
     ]
    }
   ],
   "source": [
    "# Question 1: Reverse the string \"Python Programming\"\n",
    "string = \"python programming\"\n",
    "reverse_string = string[::-1]\n",
    "print(reverse_string)"
   ]
  },
  {
   "cell_type": "code",
   "execution_count": 2,
   "id": "debd9856-b902-443a-b84e-30ac08f08f11",
   "metadata": {},
   "outputs": [
    {
     "name": "stdout",
     "output_type": "stream",
     "text": [
      "palindrome\n"
     ]
    }
   ],
   "source": [
    "# Question 2: Check if \"racecar\" is a palindrome\n",
    "string = \"racecar\" \n",
    "if string[:-1]:\n",
    "   print(\"palindrome\")\n",
    "else:\n",
    "  print(\"not palindrome\")"
   ]
  },
  {
   "cell_type": "code",
   "execution_count": 3,
   "id": "0298ceb8-b989-4cef-b087-e51993fc955f",
   "metadata": {},
   "outputs": [
    {
     "name": "stdout",
     "output_type": "stream",
     "text": [
      "number of words 6\n"
     ]
    }
   ],
   "source": [
    "# Question 3: Count the number of words in \"Python is a great programming language\"\n",
    "string = \"python is a great programming language\"\n",
    "word = len(string.split())\n",
    "print(\"number of words\", word)\n"
   ]
  },
  {
   "cell_type": "code",
   "execution_count": 4,
   "id": "92e2ca49-b2a7-4be0-9d60-4b88b41dad1d",
   "metadata": {},
   "outputs": [
    {
     "data": {
      "text/plain": [
       "'Hello World'"
      ]
     },
     "execution_count": 4,
     "metadata": {},
     "output_type": "execute_result"
    }
   ],
   "source": [
    "# Question 4: Convert \"hello world\" to title case\n",
    "string = \"Hello world\"\n",
    "string.title()"
   ]
  },
  {
   "cell_type": "code",
   "execution_count": 5,
   "id": "fb013121-ae9f-42cf-afb1-3fadf28d9f75",
   "metadata": {},
   "outputs": [
    {
     "name": "stdout",
     "output_type": "stream",
     "text": [
      "12\n"
     ]
    }
   ],
   "source": [
    "# Question 5: Find the length of string \"Data Science\"\n",
    "string = \"Data Science\"\n",
    "print(len(string))"
   ]
  },
  {
   "cell_type": "code",
   "execution_count": 6,
   "id": "94465ca2-ddeb-4a3f-980e-a4719ccc20b8",
   "metadata": {},
   "outputs": [
    {
     "data": {
      "text/plain": [
       "'machine_learning'"
      ]
     },
     "execution_count": 6,
     "metadata": {},
     "output_type": "execute_result"
    }
   ],
   "source": [
    "# Question 6: Replace all spaces with underscores in \"Machine Learning\"\n",
    "string = \"machine learning\"\n",
    "string.replace(\" \", \"_\")"
   ]
  },
  {
   "cell_type": "code",
   "execution_count": 7,
   "id": "dcc10692-3308-4678-bdd3-0ffa02bff539",
   "metadata": {},
   "outputs": [
    {
     "name": "stdout",
     "output_type": "stream",
     "text": [
      "True\n"
     ]
    }
   ],
   "source": [
    "# Question 7: Check if \"python\" is in \"Python Programming Language\"\n",
    "string = \"python programming language\"\n",
    "print(\"python\" in string)"
   ]
  },
  {
   "cell_type": "code",
   "execution_count": 8,
   "id": "d8f0560f-cb3e-4430-a88b-62395717df76",
   "metadata": {},
   "outputs": [
    {
     "data": {
      "text/plain": [
       "'Artifi'"
      ]
     },
     "execution_count": 8,
     "metadata": {},
     "output_type": "execute_result"
    }
   ],
   "source": [
    "# Question 8: Extract the first 5 characters from \"Artificial Intelligence\"\n",
    "string =\"Artificial intelligence\"\n",
    "string[0:6]"
   ]
  },
  {
   "cell_type": "code",
   "execution_count": 9,
   "id": "062f6e5a-8b8e-4138-8c51-826966f0912f",
   "metadata": {},
   "outputs": [
    {
     "data": {
      "text/plain": [
       "'uppercase'"
      ]
     },
     "execution_count": 9,
     "metadata": {},
     "output_type": "execute_result"
    }
   ],
   "source": [
    "# Question 9: Convert \"UPPERCASE\" to lowercase\n",
    "string = \"UPPERCASE\"\n",
    "string.lower()"
   ]
  },
  {
   "cell_type": "code",
   "execution_count": 1,
   "id": "040812c2-3af4-441a-9f54-29700b90dcfd",
   "metadata": {},
   "outputs": [
    {
     "name": "stdout",
     "output_type": "stream",
     "text": [
      "Cmptr Scnc\n"
     ]
    }
   ],
   "source": [
    "# Question 10: Remove all vowels from \"Computer Science\"\n",
    "string = \"Computer Science\"\n",
    "new_string =\"\"\n",
    "for char in string:\n",
    "   if char not in \"aeiouAEIOU\":\n",
    "      new_string+=char\n",
    "print(new_string)"
   ]
  },
  {
   "cell_type": "code",
   "execution_count": 37,
   "id": "f4366edd-833a-4d21-a0e0-4ef5c0c60a5a",
   "metadata": {},
   "outputs": [
    {
     "name": "stdout",
     "output_type": "stream",
     "text": [
      "i\n"
     ]
    }
   ],
   "source": [
    "# Question 11: Find the most frequent character in \"mississippi\"\n",
    "\n",
    "string =  \"mississippi\"\n",
    "frequ = {}\n",
    "for i in string:\n",
    "    frequ[i] = frequ.get(i,0)+1\n",
    "    most_fre = max(frequ, key = frequ.get)\n",
    "print(most_fre)"
   ]
  },
  {
   "cell_type": "code",
   "execution_count": 11,
   "id": "07d66657-2e0a-4e9a-b393-a63807d2e50a",
   "metadata": {},
   "outputs": [
    {
     "name": "stdout",
     "output_type": "stream",
     "text": [
      "anagrams\n"
     ]
    }
   ],
   "source": [
    "# Question 12: Check if two strings are anagrams: \"listen\" and \"silent\"\n",
    "a = \"listen\"\n",
    "b = \"silent\"\n",
    "if sorted(a) == sorted(b):\n",
    "   print(\"anagrams\")\n",
    "else:\n",
    "    print(\"not anagrams\")"
   ]
  },
  {
   "cell_type": "code",
   "execution_count": 12,
   "id": "b14744cc-6074-489e-9a7a-b9adb1af867d",
   "metadata": {},
   "outputs": [
    {
     "data": {
      "text/plain": [
       "'Python Programming Language'"
      ]
     },
     "execution_count": 12,
     "metadata": {},
     "output_type": "execute_result"
    }
   ],
   "source": [
    "# Question 13: Capitalize first letter of each word in \"python programming language\"\n",
    "string = \"python programming language\"\n",
    "string.title()"
   ]
  },
  {
   "cell_type": "code",
   "execution_count": 13,
   "id": "f2cac9dc-7fcc-40ea-aefd-72cb550aeb87",
   "metadata": {},
   "outputs": [
    {
     "data": {
      "text/plain": [
       "8"
      ]
     },
     "execution_count": 13,
     "metadata": {},
     "output_type": "execute_result"
    }
   ],
   "source": [
    "# Question 14: Count consonants in \"Hello World\"\n",
    "string = \"Hello World\"\n",
    "new_string =\"\"\n",
    "for char in string:\n",
    "   if char not in \"aeiouAEIOU\":\n",
    "      new_string+=char\n",
    "len(new_string) "
   ]
  },
  {
   "cell_type": "code",
   "execution_count": 43,
   "id": "604163e2-b243-4642-94f6-27449b8314f6",
   "metadata": {},
   "outputs": [],
   "source": [
    "import string"
   ]
  },
  {
   "cell_type": "code",
   "execution_count": 56,
   "id": "854e1cfe-4cc8-441f-88a3-e68be62afc42",
   "metadata": {},
   "outputs": [
    {
     "data": {
      "text/plain": [
       "'programming'"
      ]
     },
     "execution_count": 56,
     "metadata": {},
     "output_type": "execute_result"
    }
   ],
   "source": [
    "# Question 15: Find the longest word in \"Python is a programming language\"\n",
    "string = \"Python is a programming language\"\n",
    "max(string.split(), key = len)"
   ]
  },
  {
   "cell_type": "code",
   "execution_count": 49,
   "id": "bcbf8f69-871c-43b8-a237-3822fb8644e7",
   "metadata": {},
   "outputs": [
    {
     "name": "stdout",
     "output_type": "stream",
     "text": [
      "Hello World How are you\n"
     ]
    }
   ],
   "source": [
    "# Question 16: Remove all punctuation from \"Hello, World! How are you?\"\n",
    "text = \"Hello, World! How are you?\"\n",
    "cleaned =''.join(char for char in text if char not in  string.punctuation)\n",
    "print(cleaned)"
   ]
  },
  {
   "cell_type": "code",
   "execution_count": 40,
   "id": "4868dc45-9e8b-4094-a3b0-1176032e8078",
   "metadata": {},
   "outputs": [
    {
     "data": {
      "text/plain": [
       "True"
      ]
     },
     "execution_count": 40,
     "metadata": {},
     "output_type": "execute_result"
    }
   ],
   "source": [
    "# Question 17: Check if string starts with \"Python\"\n",
    "string = \"python\"\n",
    "string.startswith(\"python\")"
   ]
  },
  {
   "cell_type": "code",
   "execution_count": 17,
   "id": "1912a84b-1665-4f08-8d1c-05c04158e7de",
   "metadata": {},
   "outputs": [
    {
     "data": {
      "text/plain": [
       "4"
      ]
     },
     "execution_count": 17,
     "metadata": {},
     "output_type": "execute_result"
    }
   ],
   "source": [
    "# Question 18: Find the index of first occurrence of 'o' in \"Hello World\"\n",
    "string = \"Hello world\"\n",
    "string.find(\"o\")"
   ]
  },
  {
   "cell_type": "code",
   "execution_count": 1,
   "id": "d84fe2e9-5011-410b-9d80-f22309c08afe",
   "metadata": {},
   "outputs": [
    {
     "data": {
      "text/plain": [
       "['apple', 'banana', 'orange']"
      ]
     },
     "execution_count": 1,
     "metadata": {},
     "output_type": "execute_result"
    }
   ],
   "source": [
    "# Question 19: Split string \"apple,banana,orange\" by comma\n",
    "string = \"apple,banana,orange\"\n",
    "string.split(',')"
   ]
  },
  {
   "cell_type": "code",
   "execution_count": 41,
   "id": "2f707e9d-e595-400e-a6b3-472f0555907c",
   "metadata": {},
   "outputs": [
    {
     "data": {
      "text/plain": [
       "'Pythonisawesome'"
      ]
     },
     "execution_count": 41,
     "metadata": {},
     "output_type": "execute_result"
    }
   ],
   "source": [
    "# Question 20: Join list ['Python', 'is', 'awesome'] with spaces\n",
    "string = ['Python', 'is', 'awesome']\n",
    "new = ''.join(string)\n",
    "new"
   ]
  },
  {
   "cell_type": "code",
   "execution_count": 18,
   "id": "804a8171-2efa-4e25-9c7c-9f0922ff4b22",
   "metadata": {},
   "outputs": [
    {
     "data": {
      "text/plain": [
       "True"
      ]
     },
     "execution_count": 18,
     "metadata": {},
     "output_type": "execute_result"
    }
   ],
   "source": [
    "# Question 21: Check if string contains only digits: \"12345\"\n",
    "string = \"12345\"\n",
    "string.isdigit()"
   ]
  },
  {
   "cell_type": "code",
   "execution_count": 16,
   "id": "0d622988-fb25-44ad-9edf-789d8350313f",
   "metadata": {},
   "outputs": [
    {
     "data": {
      "text/plain": [
       "True"
      ]
     },
     "execution_count": 16,
     "metadata": {},
     "output_type": "execute_result"
    }
   ],
   "source": [
    "# Question 22: Check if string contains only letters: \"HelloWorld\"\n",
    "string = \"HelloWorld\"\n",
    "string.isalpha()"
   ]
  },
  {
   "cell_type": "code",
   "execution_count": 23,
   "id": "07a717e0-fdfa-45fb-ae9e-108d58c3c801",
   "metadata": {},
   "outputs": [
    {
     "data": {
      "text/plain": [
       "' hElLo wOrLd'"
      ]
     },
     "execution_count": 23,
     "metadata": {},
     "output_type": "execute_result"
    }
   ],
   "source": [
    "# Question 23: Convert \"hello world\" to \"hElLo WoRlD\" (alternating case)\n",
    "string = \"hello world\"\n",
    "result = \" \"\n",
    "i = 0\n",
    "for x in string:\n",
    "    if i%2 == 0:\n",
    "        result+=x.lower()\n",
    "    else:\n",
    "        result+=x.upper()\n",
    "    i+=1\n",
    "result\n"
   ]
  },
  {
   "cell_type": "code",
   "execution_count": 26,
   "id": "ec707908-92e8-462e-a4f5-2cd0c3774b44",
   "metadata": {},
   "outputs": [
    {
     "name": "stdout",
     "output_type": "stream",
     "text": [
      "[1, 3, 5]\n"
     ]
    }
   ],
   "source": [
    "# Question 24: Find all positions of 'a' in \"banana\"\n",
    "string = \"banana\"\n",
    "new = [i for i, val in enumerate(string) if val==\"a\"]\n",
    "print(new)"
   ]
  },
  {
   "cell_type": "code",
   "execution_count": 47,
   "id": "8c055760-4883-4674-b9bb-a204e6a90501",
   "metadata": {},
   "outputs": [
    {
     "data": {
      "text/plain": [
       "'Hello World'"
      ]
     },
     "execution_count": 47,
     "metadata": {},
     "output_type": "execute_result"
    }
   ],
   "source": [
    "# Question 25: Remove leading and trailing whitespace from \"  Hello World  \"\n",
    "string = \" Hello World \"\n",
    "string.strip()\n"
   ]
  },
  {
   "cell_type": "code",
   "execution_count": 48,
   "id": "5789fe1a-4f14-43b7-be08-cb90428d7991",
   "metadata": {},
   "outputs": [
    {
     "data": {
      "text/plain": [
       "True"
      ]
     },
     "execution_count": 48,
     "metadata": {},
     "output_type": "execute_result"
    }
   ],
   "source": [
    "# Question 26: Check if string ends with \"ing\": \"programming\"\n",
    "string = \"programming\"\n",
    "string.endswith('ing')"
   ]
  },
  {
   "cell_type": "code",
   "execution_count": 17,
   "id": "79a45821-243b-4b7e-ba1d-313722faffd6",
   "metadata": {},
   "outputs": [
    {
     "data": {
      "text/plain": [
       "'Hell0 World'"
      ]
     },
     "execution_count": 17,
     "metadata": {},
     "output_type": "execute_result"
    }
   ],
   "source": [
    "# Question 27: Replace first occurrence of 'o' with '0' in \"Hello World\"\n",
    "string = \"Hello World\"\n",
    "string.replace(\"o\",\"0\",1)"
   ]
  },
  {
   "cell_type": "code",
   "execution_count": 57,
   "id": "25874d8d-8e74-420c-8d86-485ab8b55525",
   "metadata": {},
   "outputs": [
    {
     "data": {
      "text/plain": [
       "'a'"
      ]
     },
     "execution_count": 57,
     "metadata": {},
     "output_type": "execute_result"
    }
   ],
   "source": [
    "# Question 28: Find the shortest word in \"Python is a programming language\"\n",
    "string = \"Python is a programming language\"\n",
    "new = string.split()\n",
    "min(new, key=len)"
   ]
  },
  {
   "cell_type": "code",
   "execution_count": 8,
   "id": "0e7abcc4-dee7-4076-b6ee-eeb3d0dbb26b",
   "metadata": {},
   "outputs": [
    {
     "data": {
      "text/plain": [
       "2"
      ]
     },
     "execution_count": 8,
     "metadata": {},
     "output_type": "execute_result"
    }
   ],
   "source": [
    "# Question 29: Count words that start with 'p' in \"Python programming is powerful\"\n",
    "string = \"Python programming is powerful\"\n",
    "string.count(\"p\")\n"
   ]
  },
  {
   "cell_type": "code",
   "execution_count": 9,
   "id": "5d352650-00a5-4f31-bdaa-89bf591f2819",
   "metadata": {},
   "outputs": [
    {
     "data": {
      "text/plain": [
       "'nohtyP dlroW olleH'"
      ]
     },
     "execution_count": 9,
     "metadata": {},
     "output_type": "execute_result"
    }
   ],
   "source": [
    "# Question 30: Reverse words in \"Hello World Python\"\n",
    "string = \"Hello World Python\"\n",
    "string[::-1]"
   ]
  },
  {
   "cell_type": "code",
   "execution_count": 27,
   "id": "d7db1c53-cb8a-4503-9b1b-a3788359f4e2",
   "metadata": {},
   "outputs": [
    {
     "data": {
      "text/plain": [
       "True"
      ]
     },
     "execution_count": 27,
     "metadata": {},
     "output_type": "execute_result"
    }
   ],
   "source": [
    "# Question 31: Check if string is a valid email format: \"user@example.com\"\n",
    "string = \"user@example.com\"\n",
    "string.endswith(\"@example.com\")"
   ]
  },
  {
   "cell_type": "code",
   "execution_count": 30,
   "id": "1cd3b730-c44a-4641-930e-6883e89652b5",
   "metadata": {},
   "outputs": [
    {
     "data": {
      "text/plain": [
       "'com/path'"
      ]
     },
     "execution_count": 30,
     "metadata": {},
     "output_type": "execute_result"
    }
   ],
   "source": [
    "# Question 32: Extract domain from \"https://www.example.com/path\"\n",
    "string = \"https://www.example.com/path\"\n",
    "string.split('.')[2]"
   ]
  },
  {
   "cell_type": "code",
   "execution_count": 51,
   "id": "6f44f63a-ecf8-4d3f-958d-a7a0848694cf",
   "metadata": {},
   "outputs": [
    {
     "data": {
      "text/plain": [
       "4"
      ]
     },
     "execution_count": 51,
     "metadata": {},
     "output_type": "execute_result"
    }
   ],
   "source": [
    "# Question 33: Count lines in multi-line string\n",
    "string = '''python is a programming language\\n\n",
    "It is easy to learn\n",
    "It is widely used\n",
    "Python is great.'''\n",
    "string.count(\"\\n\")"
   ]
  },
  {
   "cell_type": "code",
   "execution_count": 10,
   "id": "64c3b6af-fb3f-432c-b8d3-b37c99973d2d",
   "metadata": {},
   "outputs": [
    {
     "name": "stdout",
     "output_type": "stream",
     "text": [
      "common characters between {'l', 'o'}\n"
     ]
    }
   ],
   "source": [
    "# Question 34: Find common characters between \"hello\" and \"world\"\n",
    "string1 = \"hello\"\n",
    "string2 = \"world\"\n",
    "common_characters = set(string1) & set(string2)\n",
    "print(\"common characters between\",common_characters)\n"
   ]
  },
  {
   "cell_type": "code",
   "execution_count": 65,
   "id": "b7eb1a63-0bfd-4efb-84a4-4f90a0dfe57a",
   "metadata": {},
   "outputs": [
    {
     "name": "stdout",
     "output_type": "stream",
     "text": [
      "Valid phone number\n"
     ]
    }
   ],
   "source": [
    "# Question 35: Check if string is a valid phone number: \"+1-555-123-4567\"\n",
    "string = \"+1-555-123-4567\"\n",
    "string = string.split('-')\n",
    "if (\n",
    "    len(string) == 4 and\n",
    "    string[0].startswith('+') and string[0][1:].isdigit() and\n",
    "    string[1].isdigit() and len(string[1]) == 3 and\n",
    "    string[2].isdigit() and len(string[2]) == 3 and\n",
    "    string[3].isdigit() and len(string[3]) == 4\n",
    "):\n",
    "    print(\"Valid phone number\")\n",
    "else:\n",
    "    print(\"Invalid phone number\")"
   ]
  },
  {
   "cell_type": "code",
   "execution_count": 69,
   "id": "d6a6d3be-c7ab-44f4-8996-4b2f1ff27a80",
   "metadata": {},
   "outputs": [
    {
     "name": "stdout",
     "output_type": "stream",
     "text": [
      " 123456789\n"
     ]
    }
   ],
   "source": [
    "# Question 36: Extract numbers from \"abc123def456ghi789\"\n",
    "string = \"abc123def456ghi789\"\n",
    "new_string = \" \"\n",
    "for ch in string:\n",
    "    if ch.isdigit():\n",
    "        new_string += ch\n",
    "print(new_string)"
   ]
  },
  {
   "cell_type": "code",
   "execution_count": 33,
   "id": "b8c16b0b-a5fb-4daf-80b0-734ea3cc906c",
   "metadata": {},
   "outputs": [
    {
     "name": "stdout",
     "output_type": "stream",
     "text": [
      "snakeCase\n"
     ]
    }
   ],
   "source": [
    "# Question 37: Convert \"snake_case\" to \"camelCase\"\n",
    "snake_case = \"snake_case\"\n",
    "words = snake_case.split(\"_\")\n",
    "\n",
    "camel_case = words[0] + ''.join(word.capitalize() for word in words[1:])\n",
    "\n",
    "print(camel_case)\n"
   ]
  },
  {
   "cell_type": "code",
   "execution_count": 2,
   "id": "e950a18a-7e3a-4c13-89d1-fd68f5e42ab0",
   "metadata": {},
   "outputs": [
    {
     "name": "stdout",
     "output_type": "stream",
     "text": [
      "It is a palindrome\n"
     ]
    }
   ],
   "source": [
    "# Question 38: Check if string is a valid palindrome ignoring case: \"A man a plan a canal Panama\"\n",
    "\n",
    "string =  \"A man a plan a canal Panama\"\n",
    "string=string.lower()\n",
    "string=string.replace(\" \",\"\")\n",
    "if string==string[::-1]:\n",
    "    print(\"It is a palindrome\")\n",
    "else:\n",
    "    print(\"It is not a palindrome\")\n",
    "    \n"
   ]
  },
  {
   "cell_type": "code",
   "execution_count": 7,
   "id": "3547f5cd-5329-41e6-9ae8-ee5b5939d5fa",
   "metadata": {},
   "outputs": [
    {
     "name": "stdout",
     "output_type": "stream",
     "text": [
      "most common word: the\n"
     ]
    }
   ],
   "source": [
    "# Question 39: Find the most common word in \"the quick brown fox jumps over the lazy dog\"\n",
    "\n",
    "string = \"the quick brown fox jumps over the lazy dog\"\n",
    "words=string.split()\n",
    "word_count={}\n",
    "for i in words:\n",
    "    word_count[i]=word_count.get(i,0)+1\n",
    "    most_common=max(word_count,key=word_count.get)\n",
    "print(\"most common word:\",most_common)"
   ]
  },
  {
   "cell_type": "code",
   "execution_count": 19,
   "id": "d8e0ad2d-a78c-4bbd-a857-e01bd18e45d7",
   "metadata": {},
   "outputs": [
    {
     "name": "stdout",
     "output_type": "stream",
     "text": [
      " NAASA\n"
     ]
    }
   ],
   "source": [
    "# Question 40: Generate acronym from \"National Aeronautics and Space Administration\"\n",
    "string = \"National Aeronautics and Space Administration\"\n",
    "word = string.split()\n",
    "acronym = \" \"\n",
    "for i in word:\n",
    "    acronym +=i[0].upper()\n",
    "print(acronym)"
   ]
  },
  {
   "cell_type": "code",
   "execution_count": 26,
   "id": "b597b455-f81e-450a-b3d8-d42585534fd7",
   "metadata": {},
   "outputs": [
    {
     "name": "stdout",
     "output_type": "stream",
     "text": [
      "True\n"
     ]
    }
   ],
   "source": [
    "# Question 41: Check if string contains balanced parentheses: \"((()))\"\n",
    "\n",
    "string = \"((()))\"\n",
    "open_count = string.count('(')\n",
    "close_count = string.count(')')\n",
    "balanced = open_count == close_count and string.find('(') < string.find(')')\n",
    "print(balanced)"
   ]
  },
  {
   "cell_type": "code",
   "execution_count": 27,
   "id": "3d4ff300-49b5-4482-9ad7-7a2f6446110c",
   "metadata": {},
   "outputs": [
    {
     "name": "stdout",
     "output_type": "stream",
     "text": [
      ".... . .-.. .-.. --- / .-- --- .-. .-.. -..\n"
     ]
    }
   ],
   "source": [
    "# Question 42: Convert \"hello world\" to Morse code\n",
    "\n",
    "morse_dict = {\n",
    "    'A': '.-',    'B': '-...',  'C': '-.-.', 'D': '-..',   'E': '.',\n",
    "    'F': '..-.',  'G': '--.',   'H': '....', 'I': '..',    'J': '.---',\n",
    "    'K': '-.-',   'L': '.-..',  'M': '--',   'N': '-.',    'O': '---',\n",
    "    'P': '.--.',  'Q': '--.-',  'R': '.-.',  'S': '...',   'T': '-',\n",
    "    'U': '..-',   'V': '...-',  'W': '.--',  'X': '-..-',  'Y': '-.--',\n",
    "    'Z': '--..',\n",
    "    '0': '-----', '1': '.----', '2': '..---','3': '...--', '4': '....-',\n",
    "    '5': '.....', '6': '-....', '7': '--...', '8': '---..','9': '----.',\n",
    "    ' ': '/'\n",
    "}\n",
    "text = \"hello world\"\n",
    "morse_code = ' '.join(morse_dict[char.upper()] for char in text)\n",
    "\n",
    "print(morse_code)"
   ]
  },
  {
   "cell_type": "code",
   "execution_count": 5,
   "id": "6290d1dc-d8ef-4504-acd8-f450b8dd0bf9",
   "metadata": {},
   "outputs": [
    {
     "ename": "NameError",
     "evalue": "name 'n' is not defined",
     "output_type": "error",
     "traceback": [
      "\u001b[31m---------------------------------------------------------------------------\u001b[39m",
      "\u001b[31mNameError\u001b[39m                                 Traceback (most recent call last)",
      "\u001b[36mCell\u001b[39m\u001b[36m \u001b[39m\u001b[32mIn[5]\u001b[39m\u001b[32m, line 6\u001b[39m\n\u001b[32m      4\u001b[39m string2 = \u001b[33m\"\u001b[39m\u001b[33mgrammar\u001b[39m\u001b[33m\"\u001b[39m\n\u001b[32m      5\u001b[39m substring = []\n\u001b[32m----> \u001b[39m\u001b[32m6\u001b[39m \u001b[38;5;28;01mfor\u001b[39;00m i \u001b[38;5;129;01min\u001b[39;00m \u001b[38;5;28mrange\u001b[39m(\u001b[43mn\u001b[49m):\n\u001b[32m      7\u001b[39m     \u001b[38;5;28;01mfor\u001b[39;00m j \u001b[38;5;129;01min\u001b[39;00m \u001b[38;5;28mrange\u001b[39m(i+\u001b[32m1\u001b[39m, n+\u001b[32m1\u001b[39m):\n\u001b[32m      8\u001b[39m         substring.append(string[i:j])\n",
      "\u001b[31mNameError\u001b[39m: name 'n' is not defined"
     ]
    }
   ],
   "source": [
    "# Question 43: Find the longest common substring between \"programming\" and \"grammar\"\n",
    "\n",
    "string1 = \"programming\"\n",
    "string2 = \"grammar\"\n"
   ]
  },
  {
   "cell_type": "code",
   "execution_count": 33,
   "id": "64688821-ebef-4c84-88ef-c57888eeb1b7",
   "metadata": {},
   "outputs": [
    {
     "name": "stdout",
     "output_type": "stream",
     "text": [
      "True\n"
     ]
    }
   ],
   "source": [
    "# Question 44: Check if string is a valid URL: \"https://www.google.com\"\n",
    "\n",
    "string = \"https://www.google.com\"\n",
    "word =string.startswith(\"http://\") or  string.startswith(\"https://\") and '.' in string\n",
    "print(word)"
   ]
  },
  {
   "cell_type": "code",
   "execution_count": 44,
   "id": "182b46c4-5370-4c18-abf8-98937bbe8f87",
   "metadata": {},
   "outputs": [
    {
     "name": "stdout",
     "output_type": "stream",
     "text": [
      "['Python', 'programming', 'amazing', 'powerful']\n"
     ]
    }
   ],
   "source": [
    "#Question 45: Extract all words with length > 5 from \"Python programming is amazing and powerful\"\n",
    "\n",
    "string = \"Python programming is amazing and powerful\"\n",
    "words = string.split()\n",
    "result = []\n",
    "for i in words:\n",
    "    if len(i) > 5:\n",
    "        result.append(i)\n",
    "print(result)\n"
   ]
  },
  {
   "cell_type": "raw",
   "id": "cb172cc0-dba2-4434-aacc-5d5f30a5fcb3",
   "metadata": {},
   "source": []
  },
  {
   "cell_type": "code",
   "execution_count": 19,
   "id": "9c428889-82ad-407b-8ab6-192d9e0d6661",
   "metadata": {},
   "outputs": [
    {
     "name": "stdout",
     "output_type": "stream",
     "text": [
      "ellohay orldway\n"
     ]
    }
   ],
   "source": [
    "# Question 46: Convert \"hello world\" to Pig Latin\n",
    "string=\"hello world\"\n",
    "word=string.split()\n",
    "result = []\n",
    "\n",
    "for i in word:\n",
    "    pig = i[1:] +i[0] + 'ay'\n",
    "    result.append(pig)\n",
    "print(' '.join(result))"
   ]
  },
  {
   "cell_type": "code",
   "execution_count": 28,
   "id": "806940f0-b386-4ebd-9978-2bae89959612",
   "metadata": {},
   "outputs": [
    {
     "name": "stdout",
     "output_type": "stream",
     "text": [
      "Valid IPV4\n"
     ]
    }
   ],
   "source": [
    "# Question 47: Check if string is a valid IPv4 address: \"192.168.1.1\"\n",
    "\n",
    "string = \"192.168.1.1\"\n",
    "word = string.split(\".\")\n",
    "\n",
    "if (\n",
    "    len(word) == 4 and\n",
    "    word[0].isdigit() and 0 <= int(word[0]) <= 255 and\n",
    "    word[1].isdigit() and 0 <= int(word[1]) <= 255 and\n",
    "    word[2].isdigit() and 0 <= int(word[2]) <= 255 and\n",
    "    word[3].isdigit() and 0 <= int(word[3]) <= 255\n",
    "):                 \n",
    "    print(\"Valid IPV4\")\n",
    "else:\n",
    "    print(\"Invalid IPV4\")\n"
   ]
  },
  {
   "cell_type": "code",
   "execution_count": 29,
   "id": "41aa5bf5-0e0f-4629-a819-040a981a35de",
   "metadata": {},
   "outputs": [
    {
     "name": "stdout",
     "output_type": "stream",
     "text": [
      "['a', 'ab', 'abc', 'b', 'bc', 'c']\n"
     ]
    }
   ],
   "source": [
    "# Question 48: Find all substrings of \"abc\"\n",
    "\n",
    "string = \"abc\"\n",
    "n = len(string)\n",
    "\n",
    "substring = []\n",
    "for i in range(n):\n",
    "    for j in range(i+1, n+1):\n",
    "        substring.append(string[i:j])\n",
    "print(substring)\n"
   ]
  },
  {
   "cell_type": "code",
   "execution_count": 31,
   "id": "37c8bfac-43e5-4138-86ed-2030b8e705de",
   "metadata": {},
   "outputs": [
    {
     "name": "stdout",
     "output_type": "stream",
     "text": [
      "uryyb jbeyq\n"
     ]
    }
   ],
   "source": [
    "# Question 49: Convert \"hello world\" to ROT13 encoding\n",
    "import codecs\n",
    "string = \"hello world\"\n",
    "rot13_string = codecs.encode(string, 'rot_13')\n",
    "print(rot13_string)"
   ]
  },
  {
   "cell_type": "code",
   "execution_count": 32,
   "id": "1bf81545-253f-4062-883f-7a768621e915",
   "metadata": {},
   "outputs": [
    {
     "name": "stdout",
     "output_type": "stream",
     "text": [
      "Valid credit card number\n"
     ]
    }
   ],
   "source": [
    "# Question 50: Check if string is a valid credit card number: \"4532015112830366\"\n",
    "card = \"4532015112830366\"\n",
    "digits = list(card[::-1])  # Reverse the card number\n",
    "\n",
    "total = 0\n",
    "for i in range(len(digits)):\n",
    "    n = int(digits[i])\n",
    "    if i % 2 == 1:  # Double every second digit\n",
    "        n *= 2\n",
    "        if n > 9:\n",
    "            n -= 9\n",
    "    total += n\n",
    "\n",
    "if total % 10 == 0:\n",
    "    print(\"Valid credit card number\")\n",
    "else:\n",
    "    print(\"Invalid credit card number\")"
   ]
  },
  {
   "cell_type": "code",
   "execution_count": null,
   "id": "25e01039-79e6-49ac-9709-45b5bd01f671",
   "metadata": {},
   "outputs": [],
   "source": []
  }
 ],
 "metadata": {
  "kernelspec": {
   "display_name": "Python 3 (ipykernel)",
   "language": "python",
   "name": "python3"
  },
  "language_info": {
   "codemirror_mode": {
    "name": "ipython",
    "version": 3
   },
   "file_extension": ".py",
   "mimetype": "text/x-python",
   "name": "python",
   "nbconvert_exporter": "python",
   "pygments_lexer": "ipython3",
   "version": "3.13.5"
  }
 },
 "nbformat": 4,
 "nbformat_minor": 5
}
