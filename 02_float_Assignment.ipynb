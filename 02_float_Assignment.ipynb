{
 "cells": [
  {
   "cell_type": "code",
   "execution_count": 3,
   "id": "c4bd9a9d-f543-46d6-ac10-98cdf69b8b27",
   "metadata": {},
   "outputs": [
    {
     "name": "stdout",
     "output_type": "stream",
     "text": [
      "4.0265\n"
     ]
    }
   ],
   "source": [
    "avg=0\n",
    "sum=(3.14+2.718+1.618+0.577)/2\n",
    "print(sum)\n"
   ]
  },
  {
   "cell_type": "code",
   "execution_count": 5,
   "id": "26ad705f-5b74-4983-96ed-54b80f407e16",
   "metadata": {},
   "outputs": [
    {
     "name": "stdout",
     "output_type": "stream",
     "text": [
      "37.0\n"
     ]
    }
   ],
   "source": [
    "f = 98.6\n",
    "c = (5/9) * (f - 32)\n",
    "print(c)"
   ]
  },
  {
   "cell_type": "code",
   "execution_count": 12,
   "id": "61f9a8ed-e951-4253-9acf-d9d6a7efa402",
   "metadata": {},
   "outputs": [
    {
     "name": "stdout",
     "output_type": "stream",
     "text": [
      "174.24137499999983\n"
     ]
    }
   ],
   "source": [
    "p=1000\n",
    "t=3\n",
    "r=0.055\n",
    "n=1\n",
    "A=p*(1+r/n)**(n*t)\n",
    "com_int=A-p\n",
    "print(com_int)"
   ]
  },
  {
   "cell_type": "code",
   "execution_count": 24,
   "id": "0f906637-048d-47c5-a289-046dbe1dbe0c",
   "metadata": {},
   "outputs": [
    {
     "name": "stdout",
     "output_type": "stream",
     "text": [
      "5.4671747731346585\n"
     ]
    }
   ],
   "source": [
    "import math\n",
    "total = math.sqrt(3.5**2+4.2**2)\n",
    "print(total)"
   ]
  },
  {
   "cell_type": "code",
   "execution_count": 23,
   "id": "276b3115-4fff-41fd-9569-abccf9263be9",
   "metadata": {},
   "outputs": [
    {
     "name": "stdout",
     "output_type": "stream",
     "text": [
      "1986.7910399999998\n"
     ]
    }
   ],
   "source": [
    "import math\n",
    "radius = 7.8\n",
    "volume=(4/3)*3.14*(radius**3)\n",
    "print(volume)"
   ]
  },
  {
   "cell_type": "code",
   "execution_count": 25,
   "id": "1adf264e-dc41-4356-8c44-b308e135111b",
   "metadata": {},
   "outputs": [
    {
     "name": "stdout",
     "output_type": "stream",
     "text": [
      "3.142\n"
     ]
    }
   ],
   "source": [
    "r=3.14159\n",
    "print(round(r,3))"
   ]
  },
  {
   "cell_type": "code",
   "execution_count": 26,
   "id": "cfc3dff5-04bc-48ba-b394-2ffd641b68c8",
   "metadata": {},
   "outputs": [
    {
     "name": "stdout",
     "output_type": "stream",
     "text": [
      "67.16417910447761\n"
     ]
    }
   ],
   "source": [
    "percentage=(45/67)*100\n",
    "print(percentage)"
   ]
  },
  {
   "cell_type": "code",
   "execution_count": 27,
   "id": "5cc886c1-fcdd-430d-a63c-0272f1bf7f16",
   "metadata": {},
   "outputs": [
    {
     "name": "stdout",
     "output_type": "stream",
     "text": [
      "4.843139477652899\n"
     ]
    }
   ],
   "source": [
    "number = 23.456\n",
    "total = number ** 0.5 #1/2 = 0.5 value\n",
    "print(total)"
   ]
  },
  {
   "cell_type": "code",
   "execution_count": 34,
   "id": "437a0483-fefe-4a19-aa3c-de1b7bde8d4b",
   "metadata": {},
   "outputs": [
    {
     "name": "stdout",
     "output_type": "stream",
     "text": [
      "simple interest is 4.0625\n"
     ]
    }
   ],
   "source": [
    "p=2500\n",
    "r=0.065\n",
    "t=2.5\n",
    "n=1\n",
    "SI=(p*r*t)/100\n",
    "print(\"simple interest is\",SI)"
   ]
  },
  {
   "cell_type": "code",
   "execution_count": 38,
   "id": "402f7bdf-2a9f-4195-9ee5-45b2c9b4e9fc",
   "metadata": {},
   "outputs": [
    {
     "name": "stdout",
     "output_type": "stream",
     "text": [
      "0.7972111111111112\n"
     ]
    }
   ],
   "source": [
    "degree = 45.7\n",
    "radians=degree*(3.14/180)\n",
    "print(radians)"
   ]
  },
  {
   "cell_type": "code",
   "execution_count": null,
   "id": "8b1cdd18-f10f-4d31-b34e-c9a01dbb9c4d",
   "metadata": {},
   "outputs": [],
   "source": []
  }
 ],
 "metadata": {
  "kernelspec": {
   "display_name": "Python 3 (ipykernel)",
   "language": "python",
   "name": "python3"
  },
  "language_info": {
   "codemirror_mode": {
    "name": "ipython",
    "version": 3
   },
   "file_extension": ".py",
   "mimetype": "text/x-python",
   "name": "python",
   "nbconvert_exporter": "python",
   "pygments_lexer": "ipython3",
   "version": "3.13.5"
  }
 },
 "nbformat": 4,
 "nbformat_minor": 5
}
